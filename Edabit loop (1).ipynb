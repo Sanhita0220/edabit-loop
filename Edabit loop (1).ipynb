{
 "cells": [
  {
   "cell_type": "code",
   "execution_count": 1,
   "id": "8466477e",
   "metadata": {},
   "outputs": [],
   "source": [
    "### VERY EASY"
   ]
  },
  {
   "cell_type": "code",
   "execution_count": 2,
   "id": "cf496d93",
   "metadata": {},
   "outputs": [
    {
     "name": "stdout",
     "output_type": "stream",
     "text": [
      "Enter value :10\n",
      "Enter value :10\n",
      "Answer = 10000000000\n"
     ]
    }
   ],
   "source": [
    "'''1 Create a function that takes a base number and an exponent number and returns the calculation.\n",
    "\n",
    "Examples\n",
    "calculate_exponent(5, 5) ➞ 3125\n",
    "\n",
    "calculate_exponent(10, 10) ➞ 10000000000'''\n",
    "\n",
    "base = int(input('Enter value :'))\n",
    "exponent = int(input('Enter value :'))\n",
    "\n",
    "result = 1\n",
    "\n",
    "while exponent != 0:\n",
    "    result *= base\n",
    "    exponent-=1\n",
    "\n",
    "print(\"Answer = \" + str(result))"
   ]
  },
  {
   "cell_type": "code",
   "execution_count": 3,
   "id": "8b331815",
   "metadata": {},
   "outputs": [
    {
     "name": "stdout",
     "output_type": "stream",
     "text": [
      "Enter value :s\n",
      "Enter value :chamber of secrets\n",
      "0\n"
     ]
    }
   ],
   "source": [
    "'''2 Create a function that takes two strings as arguments and returns the number of times the first string (the single character) is found in the second string.\n",
    "\n",
    "Examples\n",
    "char_count(\"a\", \"edabit\") ➞ 1\n",
    "\n",
    "char_count(\"c\", \"Chamber of secrets\") ➞ 1'''\n",
    "\n",
    "str1 = input('Enter value :')\n",
    "str2 = input('Enter value :')\n",
    "print(str1.count(str2))"
   ]
  },
  {
   "cell_type": "code",
   "execution_count": 4,
   "id": "c1eedffb",
   "metadata": {},
   "outputs": [
    {
     "name": "stdout",
     "output_type": "stream",
     "text": [
      "1\n"
     ]
    }
   ],
   "source": [
    "'''3 Create a function that takes a list and a string as arguments and returns the index of the string.\n",
    "\n",
    "Examples\n",
    "find_index([\"hi\", \"edabit\", \"fgh\", \"abc\"], \"fgh\") ➞ 2\n",
    "\n",
    "find_index([\"Red\", \"blue\", \"Blue\", \"Green\"], \"blue\") ➞ 1'''\n",
    "\n",
    "for i, j in enumerate(['foo', 'bar', 'baz']):\n",
    "    if j == 'bar':\n",
    "        print(i)"
   ]
  },
  {
   "cell_type": "code",
   "execution_count": 5,
   "id": "f2b33ce9",
   "metadata": {},
   "outputs": [
    {
     "name": "stdout",
     "output_type": "stream",
     "text": [
      "11\n"
     ]
    }
   ],
   "source": [
    "'''4 Create a function which returns the length of a string, without using len().\n",
    "\n",
    "Examples\n",
    "length(\"Hello World\") ➞ 11\n",
    "\n",
    "length(\"Edabit\") ➞ 6\n",
    "'''\n",
    "\n",
    "x= len('Hello World')\n",
    "print(x)"
   ]
  },
  {
   "cell_type": "code",
   "execution_count": 11,
   "id": "962030fd",
   "metadata": {},
   "outputs": [
    {
     "name": "stdout",
     "output_type": "stream",
     "text": [
      "Please pick a letter you think is in the word I have chosen.f\n",
      "You did not get one of the letters. Please try again.\n",
      "Please pick a letter you think is in the word I have chosen.spoon\n",
      "You did not get one of the letters. Please try again.\n",
      "Please pick a letter you think is in the word I have chosen.f\n",
      "You did not get one of the letters. Please try again.\n"
     ]
    }
   ],
   "source": [
    "'''5 Given a letter and a list of words, return whether the letter does not appear in any of the words.\n",
    "\n",
    "Examples\n",
    "forbidden_letter(\"r\", [\"rock\", \"paper\", \"scissors\"]) ➞ False\n",
    "\n",
    "forbidden_letter(\"a\", [\"spoon\", \"fork\", \"knife\"]) ➞ True'''\n",
    "\n",
    "a=[\"rock\", \"paper\", \"scissors\"]\n",
    "for i in range(0, len(a)):\n",
    "    user_input = str(input(\"Please pick a letter you think is in the word I have chosen.\"))\n",
    "\n",
    "    if user_input in a:\n",
    "        print (\"You got one of the letters! Keep going!\")\n",
    "    else:\n",
    "        print (\"You did not get one of the letters. Please try again.\")"
   ]
  },
  {
   "cell_type": "code",
   "execution_count": 12,
   "id": "c8178459",
   "metadata": {},
   "outputs": [
    {
     "name": "stdout",
     "output_type": "stream",
     "text": [
      "apple\n",
      "banana\n",
      "cherry\n"
     ]
    }
   ],
   "source": [
    "fruits = [\"apple\", \"banana\", \"cherry\"]\n",
    "for x in fruits:\n",
    "  print(x)"
   ]
  },
  {
   "cell_type": "code",
   "execution_count": 13,
   "id": "b8fec9c2",
   "metadata": {},
   "outputs": [
    {
     "name": "stdout",
     "output_type": "stream",
     "text": [
      "1\n",
      "5\n",
      "20\n"
     ]
    }
   ],
   "source": [
    "'''6 Create a function that takes a 2D list lst and returns the sum of the minimum value in each row.\n",
    "\n",
    "Examples\n",
    "sum_minimums([\n",
    "  [1, 2, 3, 4, 5],\n",
    "  [5, 6, 7, 8, 9],\n",
    "  [20, 21, 34, 56, 100]\n",
    "]) ➞ 26\n",
    "\n",
    "# minimum value of the first row is 1\n",
    "# minimum value of the second row is 5'''\n",
    "a = [[1, 2, 3, 4,5], [5, 6,7,8,9], [20, 21, 34, 56, 100]]\n",
    "s = 0\n",
    "for row in a:\n",
    "    if row:\n",
    "        min_val = min(row)    \n",
    "    print(min_val)\n",
    "    \n",
    "    "
   ]
  },
  {
   "cell_type": "code",
   "execution_count": 14,
   "id": "228e07ff",
   "metadata": {},
   "outputs": [
    {
     "name": "stdout",
     "output_type": "stream",
     "text": [
      "Enter a num:65\n",
      "1,5,13,65,"
     ]
    }
   ],
   "source": [
    "'''7 Create a function that finds each factor of a given number n. Your solution should return a list of the number(s) that meet this criteria.\n",
    "\n",
    "Examples\n",
    "find_factors(9) ➞ [1, 3, 9]\n",
    "# 9 has three factors 1, 3 and 9\n",
    "\n",
    "find_factors(12) ➞ [1, 2, 3, 4, 6, 12]'''\n",
    "\n",
    "a = int(input('Enter a num:'))\n",
    "\n",
    "for i in range(1,a+1):\n",
    "    if a%i==0:\n",
    "        print(i,end=',')\n",
    "    "
   ]
  },
  {
   "cell_type": "code",
   "execution_count": 15,
   "id": "eabb16fb",
   "metadata": {},
   "outputs": [
    {
     "name": "stdout",
     "output_type": "stream",
     "text": [
      "Enter a string:sanhita\n",
      "s\n",
      "sa\n",
      "san\n",
      "sanh\n",
      "sanhi\n",
      "sanhit\n",
      "sanhita\n"
     ]
    }
   ],
   "source": [
    "str = input('Enter a string:')\n",
    "output=''\n",
    "for i in str:\n",
    "    if i.isupper():\n",
    "        output+=i.lower()\n",
    "        \n",
    "    else:\n",
    "        output+=i\n",
    "    print(output)\n"
   ]
  },
  {
   "cell_type": "code",
   "execution_count": 16,
   "id": "b249ac8a",
   "metadata": {},
   "outputs": [
    {
     "name": "stdout",
     "output_type": "stream",
     "text": [
      "Enter a string:happy BIRTHDAY\n",
      "HAPPY birthday\n"
     ]
    }
   ],
   "source": [
    "'''8 Given a string, create a function to reverse the case. All lower-cased letters should be upper-cased, and vice versa.\n",
    "\n",
    "Examples\n",
    "reverse_case(\"Happy Birthday\") ➞ \"hAPPY bIRTHDAY\"\n",
    "\n",
    "reverse_case(\"MANY THANKS\") ➞ \"many thanks\"'''\n",
    "\n",
    "str = input('Enter a string:')\n",
    "x=\"\"\n",
    "for i in str:\n",
    "    if(i.isupper()):\n",
    "        x+=i.lower()\n",
    "    else:\n",
    "        x+=i.upper()\n",
    "print(x)\n"
   ]
  },
  {
   "cell_type": "code",
   "execution_count": null,
   "id": "4061469b",
   "metadata": {},
   "outputs": [],
   "source": [
    "'''9 Create a function that returns the number of hashes and pluses in a string.\n",
    "\n",
    "Examples\n",
    "hash_plus_count(\"###+\") ➞ [3, 1]\n",
    "\n",
    "hash_plus_count(\"##+++#\") ➞ [3, 3]'''"
   ]
  },
  {
   "cell_type": "code",
   "execution_count": 17,
   "id": "7fdae976",
   "metadata": {},
   "outputs": [
    {
     "name": "stdout",
     "output_type": "stream",
     "text": [
      "Enter a string:hungama\n",
      "['h', 'n', 'a', 'a'] ['u', 'g', 'm'] "
     ]
    }
   ],
   "source": [
    "'''10 Given a one word lowercase string txt, return another string such that even-indexed and odd-indexed characters are grouped and groups are space-separated.\n",
    "\n",
    "Examples\n",
    "even_odd_string(\"mubashir\") ➞ \"mbsi uahr\"\n",
    "# Letters at even indexes = \"mbsi\"\n",
    "# Letters at odd indexes = \"uahr\"\n",
    "# Join both strings with a space\n",
    "\n",
    "even_odd_string(\"edabit\") ➞ \"eai dbt\"\n",
    "\n",
    "even_odd_string(\"airforce\") ➞ \"aroc ifre\"'''\n",
    "\n",
    "str = input('Enter a string:')\n",
    "e_str=[]\n",
    "o_str=[]\n",
    "\n",
    "for i in range(len(str)):\n",
    "    if i%2==0:\n",
    "        e_str.append(str[i])\n",
    "    else:\n",
    "        o_str.append(str[i])\n",
    "print(e_str,o_str,end=' ')"
   ]
  },
  {
   "cell_type": "code",
   "execution_count": 18,
   "id": "4f427b80",
   "metadata": {},
   "outputs": [
    {
     "name": "stdout",
     "output_type": "stream",
     "text": [
      "Enter a starting value:3\n",
      "Enter a ending value:15\n",
      "sum: 63\n"
     ]
    }
   ],
   "source": [
    "'''11 Create a function which returns the total of all odd numbers up to and including n. n will be given as an odd number.\n",
    "\n",
    "Examples\n",
    "add_odd_to_n(5) ➞ 9\n",
    "# 1 + 3 + 5 = 9\n",
    "\n",
    "add_odd_to_n(13) ➞ 49\n",
    "\n",
    "add_odd_to_n(47) ➞ 576'''\n",
    "\n",
    "a=int(input('Enter a starting value:'))\n",
    "b=int(input('Enter a ending value:'))\n",
    "sum=0\n",
    "for i in range(a,b+1):\n",
    "    if(i%2!=0):\n",
    "        sum=sum+i\n",
    "print(\"sum:\",sum)"
   ]
  },
  {
   "cell_type": "code",
   "execution_count": 19,
   "id": "ce636cdf",
   "metadata": {},
   "outputs": [
    {
     "name": "stdout",
     "output_type": "stream",
     "text": [
      "[-1, 2, -3, -4, 5, -6, 7, -8, 9, -10]\n"
     ]
    }
   ],
   "source": [
    "'''12 Given a list of numbers, negate all elements contained within.\n",
    "\n",
    "Negating a positive value -+n will return -n, because all +'s are removed.\n",
    "Negating a negative value --n will return n, because the first - turns the second minus into a +.\n",
    "Examples\n",
    "negate([1, 2, 3, 4]) ➞ [-1, -2, -3, -4]\n",
    "\n",
    "negate([-1, 2, -3, 4]) ➞ [1, -2, 3, -4]\n",
    "'''\n",
    "list = [1,-2,3,4,-5,6,-7,8,-9,10]\n",
    "R=[]\n",
    "for i in range(len(list)):\n",
    "    if list[i] > 0:\n",
    "        list[i] = -list[i]\n",
    "    else:\n",
    "        list[i] = -(list[i])\n",
    "    R.append(list)\n",
    "            \n",
    "print(list)"
   ]
  },
  {
   "cell_type": "code",
   "execution_count": 20,
   "id": "20844b53",
   "metadata": {},
   "outputs": [
    {
     "name": "stdout",
     "output_type": "stream",
     "text": [
      "Enter a number:54\n",
      "54018\n"
     ]
    }
   ],
   "source": [
    "'''13 Create a function that takes a number n and returns the sum of all square numbers up to and including n.\n",
    "\n",
    "squares_sum(3) ➞ 14\n",
    "# 1² + 2² + 3² =\n",
    "# 1 + 4 + 9 =\n",
    "# 14\n",
    "Examples\n",
    "squares_sum(3) ➞ 14\n",
    "\n",
    "squares_sum(12) ➞ 650'''\n",
    "\n",
    "n=int(input('Enter a number:'))\n",
    "i=0\n",
    "for i in range(1,n+1):\n",
    "    sum+=i**2\n",
    "print(sum)"
   ]
  },
  {
   "cell_type": "code",
   "execution_count": 21,
   "id": "4cd42e56",
   "metadata": {},
   "outputs": [
    {
     "name": "stdout",
     "output_type": "stream",
     "text": [
      "[-1, 2, -3, -4, 5, -6, 7, -8, 9, -10]\n"
     ]
    }
   ],
   "source": [
    "'''14 A number added with its additive inverse equals zero. Create a function that returns a list of additive inverses.\n",
    "\n",
    "Examples\n",
    "additive_inverse([5, -7, 8, 3]) ➞ [-5, 7, -8, -3]\n",
    "\n",
    "additive_inverse([1, 1, 1, 1, 1]) ➞ [-1, -1, -1, -1, -1]'''\n",
    "\n",
    "list = [1,-2,3,4,-5,6,-7,8,-9,10]\n",
    "R=[]\n",
    "for i in range(len(list)):\n",
    "    if list[i] > 0:\n",
    "        list[i] = -list[i]\n",
    "    else:\n",
    "        list[i] = -(list[i])\n",
    "    R.append(list)\n",
    "            \n",
    "print(list)"
   ]
  },
  {
   "cell_type": "code",
   "execution_count": 22,
   "id": "08aeefd1",
   "metadata": {},
   "outputs": [
    {
     "name": "stdout",
     "output_type": "stream",
     "text": [
      "Enter a value:45\n",
      "1035\n"
     ]
    }
   ],
   "source": [
    "'''15 Write a function that takes the last number of a consecutive list of numbers and returns the total of all numbers up to and including it.\n",
    "\n",
    "Examples\n",
    "add_up_to(3) ➞ 6\n",
    "# 1 + 2 + 3 = 6\n",
    "\n",
    "add_up_to(10) ➞ 55\n",
    "# 1 + 2 + 3 + ... + 10 = 55'''\n",
    "\n",
    "a=int(input('Enter a value:'))\n",
    "sum=0\n",
    "for i in range(1,a+1):\n",
    "    sum=sum+i\n",
    "print(sum)"
   ]
  },
  {
   "cell_type": "code",
   "execution_count": 26,
   "id": "8788e534",
   "metadata": {},
   "outputs": [
    {
     "name": "stdout",
     "output_type": "stream",
     "text": [
      "enter a starting num:30\n",
      "enter a ending num:40\n",
      "210\n"
     ]
    }
   ],
   "source": [
    "'''16 Create a function that takes two parameters (start, stop), and returns the sum of all even numbers in the range.\n",
    "\n",
    "Examples\n",
    "sum_even_nums_in_range(10, 20) ➞ 90\n",
    "# 10, 12, 14, 16, 18, 20\n",
    "\n",
    "sum_even_nums_in_range(51, 150) ➞ 5050'''\n",
    "\n",
    "a,b = int(input('enter a starting num:')),int(input('enter a ending num:'))+1\n",
    "sum=0\n",
    "for i in range(a,b):\n",
    "    if i%2==0:\n",
    "        sum=sum+i\n",
    "print(sum)"
   ]
  },
  {
   "cell_type": "code",
   "execution_count": 25,
   "id": "73f1fd9a",
   "metadata": {},
   "outputs": [
    {
     "name": "stdout",
     "output_type": "stream",
     "text": [
      "enter a starting num:44\n",
      "enter a ending num:55\n",
      "44,45,46,47,48,49,50,51,52,53,54,55,"
     ]
    }
   ],
   "source": [
    "'''17 Implement a function that returns a list containing all the consecutive numbers in ascendant order from the given value low up to the given value high (bounds included).\n",
    "\n",
    "Examples\n",
    "get_sequence(1, 5) ➞ [1, 2, 3, 4, 5]\n",
    "\n",
    "get_sequence(98, 100) ➞ [98, 99, 100]\n",
    "'''\n",
    "\n",
    "a,b = int(input('enter a starting num:')),int(input('enter a ending num:'))+1\n",
    "for i in range(a,b):\n",
    "    \n",
    "    print(i,end=',')"
   ]
  },
  {
   "cell_type": "code",
   "execution_count": 27,
   "id": "0a0077be",
   "metadata": {},
   "outputs": [
    {
     "name": "stdout",
     "output_type": "stream",
     "text": [
      "enter number:4\n",
      "edaaaabit\n"
     ]
    }
   ],
   "source": [
    "''' 18 Write a function that takes an integer and returns a string with the given number of \"a\"s in Edabit.\n",
    "\n",
    "Examples\n",
    "how_many_times(5) ➞ \"Edaaaaabit\"\n",
    "\n",
    "how_many_times(0) ➞ \"Edbit\"\n",
    "\n",
    "how_many_times(12) ➞ \"Edaaaaaaaaaaaabit\"'''\n",
    "\n",
    "n=int(input('enter number:'))\n",
    "result=\"ed\"\n",
    "i=0\n",
    "while i<n:\n",
    "    result += \"a\"\n",
    "    i+=1\n",
    "result += \"bit\" \n",
    "print(result)"
   ]
  },
  {
   "cell_type": "code",
   "execution_count": 28,
   "id": "4eee6975",
   "metadata": {},
   "outputs": [
    {
     "name": "stdout",
     "output_type": "stream",
     "text": [
      "[1, 2, 3, 4]\n"
     ]
    }
   ],
   "source": [
    "'''19 Mubashir created an infinite loop! Help him by fixing the code in the code tab to pass this challenge. Look at the examples below to get an idea of what the function should do.\n",
    "\n",
    "Examples\n",
    "print_list(1) ➞ [1]\n",
    "\n",
    "print_list(3) ➞ [1, 2, 3]\n",
    "\n",
    "print_list(6) ➞ [1, 2, 3, 4, 5, 6]'''\n",
    "\n",
    "list =[]\n",
    "i=1\n",
    "while i<=n:\n",
    "    list.append(i)\n",
    "    i+=1\n",
    "print(list)"
   ]
  },
  {
   "cell_type": "markdown",
   "id": "39173e6a",
   "metadata": {},
   "source": [
    "### *****************************************************************************************************************************"
   ]
  },
  {
   "cell_type": "code",
   "execution_count": null,
   "id": "024d9ea9",
   "metadata": {},
   "outputs": [],
   "source": []
  },
  {
   "cell_type": "markdown",
   "id": "6aaace16",
   "metadata": {},
   "source": [
    "### EASY"
   ]
  },
  {
   "cell_type": "code",
   "execution_count": 29,
   "id": "52c8d66c",
   "metadata": {},
   "outputs": [
    {
     "name": "stdout",
     "output_type": "stream",
     "text": [
      "100\n"
     ]
    }
   ],
   "source": [
    "'''1 Create a function that takes an array of values resistance that are connected in series, and calculates the total resistance of the circuit in ohms. The ohm is the standard unit of electrical resistance in the International System of Units ( SI ).\n",
    "\n",
    "Examples\n",
    "series_resistance([1, 5, 6, 3]) ➞ \"15 ohms\"\n",
    "\n",
    "series_resistance([16, 3.5, 6]) ➞ \"25.5 ohms\"\n",
    "'''\n",
    "\n",
    "resistances = [10, 20, 30, 40]\n",
    "total = 0\n",
    "i=0\n",
    "n = len(resistances)\n",
    "while i < n:\n",
    "        total += resistances[i]\n",
    "        i += 1\n",
    "\n",
    "print(total)\n",
    "\n"
   ]
  },
  {
   "cell_type": "code",
   "execution_count": 32,
   "id": "2a49cba9",
   "metadata": {},
   "outputs": [
    {
     "ename": "TypeError",
     "evalue": "'str' object is not callable",
     "output_type": "error",
     "traceback": [
      "\u001b[1;31m---------------------------------------------------------------------------\u001b[0m",
      "\u001b[1;31mTypeError\u001b[0m                                 Traceback (most recent call last)",
      "Cell \u001b[1;32mIn[32], line 11\u001b[0m\n\u001b[0;32m      9\u001b[0m new_list \u001b[38;5;241m=\u001b[39m []\n\u001b[0;32m     10\u001b[0m \u001b[38;5;28;01mfor\u001b[39;00m letter \u001b[38;5;129;01min\u001b[39;00m list1:\n\u001b[1;32m---> 11\u001b[0m     new_list\u001b[38;5;241m.\u001b[39mappend(\u001b[38;5;28;43mstr\u001b[39;49m\u001b[43m(\u001b[49m\u001b[43mletter\u001b[49m\u001b[43m)\u001b[49m\u001b[38;5;241m+\u001b[39mstr1)\n\u001b[0;32m     12\u001b[0m \u001b[38;5;28mprint\u001b[39m(new_list)\n",
      "\u001b[1;31mTypeError\u001b[0m: 'str' object is not callable"
     ]
    }
   ],
   "source": [
    "'''2 Create a function which concatenates the number 7 to the end of every chord in a list. Ignore all chords which already end with 7.\n",
    "\n",
    "# Example usage:\n",
    "chords_list = [\"C\", \"G7\", \"Dm\", \"Am7\", \"F#m7\"]'''\n",
    "\n",
    "list1 = ['a','b','c']\n",
    "str1 = '7'\n",
    "\n",
    "new_list = []\n",
    "for letter in list1:\n",
    "    new_list.append(str(letter)+str1)\n",
    "print(new_list)"
   ]
  },
  {
   "cell_type": "code",
   "execution_count": 40,
   "id": "f80b9557",
   "metadata": {},
   "outputs": [
    {
     "ename": "TypeError",
     "evalue": "'str' object is not callable",
     "output_type": "error",
     "traceback": [
      "\u001b[1;31m---------------------------------------------------------------------------\u001b[0m",
      "\u001b[1;31mTypeError\u001b[0m                                 Traceback (most recent call last)",
      "Cell \u001b[1;32mIn[40], line 23\u001b[0m\n\u001b[0;32m     20\u001b[0m         decimal_number \u001b[38;5;241m/\u001b[39m\u001b[38;5;241m/\u001b[39m\u001b[38;5;241m=\u001b[39m \u001b[38;5;241m2\u001b[39m\n\u001b[0;32m     22\u001b[0m     \u001b[38;5;28;01mreturn\u001b[39;00m binary_representation\n\u001b[1;32m---> 23\u001b[0m \u001b[38;5;28mprint\u001b[39m(\u001b[43mbinary\u001b[49m\u001b[43m(\u001b[49m\u001b[38;5;241;43m5\u001b[39;49m\u001b[43m)\u001b[49m)\n",
      "Cell \u001b[1;32mIn[40], line 19\u001b[0m, in \u001b[0;36mbinary\u001b[1;34m(decimal_number)\u001b[0m\n\u001b[0;32m     17\u001b[0m \u001b[38;5;28;01mwhile\u001b[39;00m decimal_number \u001b[38;5;241m>\u001b[39m \u001b[38;5;241m0\u001b[39m:\n\u001b[0;32m     18\u001b[0m     remainder \u001b[38;5;241m=\u001b[39m decimal_number \u001b[38;5;241m%\u001b[39m \u001b[38;5;241m2\u001b[39m\n\u001b[1;32m---> 19\u001b[0m     binary_representation \u001b[38;5;241m=\u001b[39m \u001b[38;5;28;43mstr\u001b[39;49m\u001b[43m(\u001b[49m\u001b[43mremainder\u001b[49m\u001b[43m)\u001b[49m \u001b[38;5;241m+\u001b[39m binary_representation\n\u001b[0;32m     20\u001b[0m     decimal_number \u001b[38;5;241m/\u001b[39m\u001b[38;5;241m/\u001b[39m\u001b[38;5;241m=\u001b[39m \u001b[38;5;241m2\u001b[39m\n\u001b[0;32m     22\u001b[0m \u001b[38;5;28;01mreturn\u001b[39;00m binary_representation\n",
      "\u001b[1;31mTypeError\u001b[0m: 'str' object is not callable"
     ]
    }
   ],
   "source": [
    "'''3 Create a function that returns a base-2 (binary) representation of a base-10 (decimal) string number. To convert is simple: ((2) means base-2 and (10) means base-10) 010101001(2) = 1 + 8 + 32 + 128.\n",
    "\n",
    "Going from right to left, the value of the most right bit is 1, now from that every bit to the left will be x2 the value, value of an 8 bit binary numbers are (256, 128, 64, 32, 16, 8, 4, 2, 1).\n",
    "\n",
    "Examples\n",
    "binary(1) ➞ \"1\"\n",
    "# 1*1 = 1\n",
    "\n",
    "binary(5) ➞ \"101\"\n",
    "# 1*1 + 1*4 = 5'''\n",
    "\n",
    "def binary(decimal_number):\n",
    "    if decimal_number == 0:\n",
    "        return \"0\"\n",
    "\n",
    "    binary_representation = \"\"\n",
    "    while decimal_number > 0:\n",
    "        remainder = decimal_number % 2\n",
    "        binary_representation = str(remainder) + binary_representation\n",
    "        decimal_number //= 2\n",
    "\n",
    "    return binary_representation\n",
    "print(binary(5))"
   ]
  },
  {
   "cell_type": "code",
   "execution_count": 41,
   "id": "1bce480f",
   "metadata": {},
   "outputs": [
    {
     "name": "stdout",
     "output_type": "stream",
     "text": [
      "enter a word:prediction\n",
      "4\n"
     ]
    }
   ],
   "source": [
    "'''4 Create a function that takes a string and returns the number (count) of vowels contained within it.\n",
    "\n",
    "Examples\n",
    "count_vowels(\"Celebration\") ➞ 5\n",
    "\n",
    "count_vowels(\"Palm\") ➞ 1\n",
    "'''\n",
    "\n",
    "vowel = ['a','e','i','o','u']\n",
    "sentence = input(\"enter a word:\")\n",
    "count= 0\n",
    "for letter in sentence:\n",
    "    if letter in vowel:\n",
    "        count+=1\n",
    "print(count)"
   ]
  },
  {
   "cell_type": "code",
   "execution_count": 42,
   "id": "07e77ba8",
   "metadata": {},
   "outputs": [
    {
     "name": "stdout",
     "output_type": "stream",
     "text": [
      "The list is :\n",
      "[34, 56, 78, 99, 23, 34, 34, 56, 78, 99, 99, 99, 99, 34, 34, 56, 56]\n",
      "The length is :\n",
      "17\n",
      "The method to find the element that occurs odd number of times is called \n",
      "The element that occurs odd number of times is :\n",
      "34\n"
     ]
    }
   ],
   "source": [
    "'''5 Create a function that takes a list and finds the integer which appears an odd number of times.\n",
    "\n",
    "Examples\n",
    "find_odd([1, 1, 2, -2, 5, 2, 4, 4, -1, -2, 5]) ➞ -1\n",
    "\n",
    "find_odd([20, 1, 1, 2, 2, 3, 3, 5, 5, 4, 20, 4, 5]) ➞ 5\n",
    "'''\n",
    "\n",
    "def odd_occurence(my_list, list_size):\n",
    "\n",
    "   for i in range(0, list_size):\n",
    "      count = 0\n",
    "      for j in range(0, list_size):\n",
    "         if my_list[i] == my_list[j]:\n",
    "            count+= 1\n",
    "\n",
    "      if (count % 2 != 0):\n",
    "         return my_list[i]\n",
    "\n",
    "   return -1\n",
    "my_list = [34, 56, 78, 99, 23, 34, 34, 56, 78, 99, 99, 99, 99, 34, 34, 56, 56 ]\n",
    "print(\"The list is :\")\n",
    "print(my_list)\n",
    "n = len(my_list)\n",
    "print(\"The length is :\")\n",
    "print(n)\n",
    "print(\"The method to find the element that occurs odd number of times is called \")\n",
    "print(\"The element that occurs odd number of times is :\")\n",
    "print(odd_occurence(my_list, n))\n"
   ]
  },
  {
   "cell_type": "code",
   "execution_count": 43,
   "id": "0ad46716",
   "metadata": {},
   "outputs": [
    {
     "name": "stdout",
     "output_type": "stream",
     "text": [
      "4\n"
     ]
    }
   ],
   "source": [
    "'''6 Create a function that computes the hamming distance between two strings.\n",
    "\n",
    "Examples\n",
    "hamming_distance(\"abcde\", \"bcdef\") ➞ 5\n",
    "\n",
    "hamming_distance(\"abcde\", \"abcde\") ➞ 0'''\n",
    "\n",
    "def hammingDist(str1, str2):\n",
    "    i = 0\n",
    "    count = 0\n",
    " \n",
    "    while(i < len(str1)):\n",
    "        if(str1[i] != str2[i]):\n",
    "            count += 1\n",
    "        i += 1\n",
    "    return count\n",
    " \n",
    "# Driver code \n",
    "str1 = \"geekspractice\"\n",
    "str2 = \"nerdspractise\"\n",
    " \n",
    "# function call\n",
    "print(hammingDist(str1, str2))"
   ]
  },
  {
   "cell_type": "code",
   "execution_count": 44,
   "id": "6bc66629",
   "metadata": {},
   "outputs": [
    {
     "ename": "TypeError",
     "evalue": "isinstance() arg 2 must be a type, a tuple of types, or a union",
     "output_type": "error",
     "traceback": [
      "\u001b[1;31m---------------------------------------------------------------------------\u001b[0m",
      "\u001b[1;31mTypeError\u001b[0m                                 Traceback (most recent call last)",
      "Cell \u001b[1;32mIn[44], line 20\u001b[0m\n\u001b[0;32m     17\u001b[0m             lst\u001b[38;5;241m.\u001b[39mremove(lst[\u001b[38;5;241m0\u001b[39m])\n\u001b[0;32m     18\u001b[0m     \u001b[38;5;28;01mreturn\u001b[39;00m (intlist)\n\u001b[1;32m---> 20\u001b[0m x\u001b[38;5;241m=\u001b[39m\u001b[43mfilter_list\u001b[49m\u001b[43m(\u001b[49m\u001b[43m[\u001b[49m\u001b[38;5;241;43m2\u001b[39;49m\u001b[43m,\u001b[49m\u001b[38;5;241;43m4\u001b[39;49m\u001b[43m,\u001b[49m\u001b[38;5;241;43m12\u001b[39;49m\u001b[43m,\u001b[49m\u001b[38;5;241;43m5\u001b[39;49m\u001b[43m,\u001b[49m\u001b[38;5;124;43m\"\u001b[39;49m\u001b[38;5;124;43ma\u001b[39;49m\u001b[38;5;124;43m\"\u001b[39;49m\u001b[43m,\u001b[49m\u001b[38;5;124;43m\"\u001b[39;49m\u001b[38;5;124;43mb\u001b[39;49m\u001b[38;5;124;43m\"\u001b[39;49m\u001b[43m]\u001b[49m\u001b[43m)\u001b[49m\n\u001b[0;32m     21\u001b[0m \u001b[38;5;28mprint\u001b[39m(x)\n",
      "Cell \u001b[1;32mIn[44], line 16\u001b[0m, in \u001b[0;36mfilter_list\u001b[1;34m(lst)\u001b[0m\n\u001b[0;32m     14\u001b[0m         \u001b[38;5;28;01melse\u001b[39;00m:\n\u001b[0;32m     15\u001b[0m             lst\u001b[38;5;241m.\u001b[39mremove(lst[\u001b[38;5;241m0\u001b[39m])\n\u001b[1;32m---> 16\u001b[0m     \u001b[38;5;28;01mif\u001b[39;00m \u001b[38;5;28;43misinstance\u001b[39;49m\u001b[43m(\u001b[49m\u001b[43mlst\u001b[49m\u001b[43m[\u001b[49m\u001b[38;5;241;43m0\u001b[39;49m\u001b[43m]\u001b[49m\u001b[43m,\u001b[49m\u001b[38;5;28;43mstr\u001b[39;49m\u001b[43m)\u001b[49m:\n\u001b[0;32m     17\u001b[0m         lst\u001b[38;5;241m.\u001b[39mremove(lst[\u001b[38;5;241m0\u001b[39m])\n\u001b[0;32m     18\u001b[0m \u001b[38;5;28;01mreturn\u001b[39;00m (intlist)\n",
      "\u001b[1;31mTypeError\u001b[0m: isinstance() arg 2 must be a type, a tuple of types, or a union"
     ]
    }
   ],
   "source": [
    "'''7 Create a function that takes a list of non-negative integers and strings and return a new list without the strings.\n",
    "\n",
    "Examples\n",
    "filter_list([1, 2, \"a\", \"b\"]) ➞ [1, 2]\n",
    "\n",
    "filter_list([1, \"a\", \"b\", 0, 15]) ➞ [1, 0, 15]'''\n",
    "def filter_list(lst):\n",
    "    intlist = []\n",
    "    while len(lst) > 0:\n",
    "        if isinstance(lst[0],int):\n",
    "            if (lst[0] >= 0):\n",
    "                intlist.append(lst[0])\n",
    "                lst.remove(lst[0])\n",
    "            else:\n",
    "                lst.remove(lst[0])\n",
    "        if isinstance(lst[0],str):\n",
    "            lst.remove(lst[0])\n",
    "    return (intlist)\n",
    "\n",
    "x=filter_list([2,4,12,5,\"a\",\"b\"])\n",
    "print(x)"
   ]
  },
  {
   "cell_type": "code",
   "execution_count": null,
   "id": "03bb6d6c",
   "metadata": {},
   "outputs": [],
   "source": [
    "'''8 Create a function that takes a list of strings and integers, and filters out the list so that it returns a list of integers only.\n",
    "\n",
    "Examples\n",
    "filter_list([1, 2, 3, \"a\", \"b\", 4]) ➞ [1, 2, 3, 4]\n",
    "\n",
    "filter_list([\"A\", 0, \"Edabit\", 1729, \"Python\", \"1729\"]) ➞ [0, 1729]'''\n",
    "\n",
    "def filter_list(l):  \n",
    "    output = []\n",
    "    for i in l:  \n",
    "        if type(i) != str:  \n",
    "            output.append(i)  \n",
    "    return output\n",
    "\n",
    "print(filter_list([\"A\", 0, \"Edabit\", 1729, \"Python\", \"1729\"]))"
   ]
  },
  {
   "cell_type": "code",
   "execution_count": null,
   "id": "3c5df625",
   "metadata": {},
   "outputs": [],
   "source": [
    "'''9 Given a list of numbers, create a function which returns the list but with each element's index in the list added to itself. This means you add 0 to the number at index 0, add 1 to the number at index 1, etc...\n",
    "\n",
    "Examples\n",
    "add_indexes([0, 0, 0, 0, 0]) ➞ [0, 1, 2, 3, 4]\n",
    "\n",
    "add_indexes([1, 2, 3, 4, 5]) ➞ [1, 3, 5, 7, 9]'''\n",
    "\n",
    "list=[1, 2, 3, 4, 5]\n",
    "for idx,val in enumerate(list):\n",
    "    print(idx,val)"
   ]
  },
  {
   "cell_type": "code",
   "execution_count": null,
   "id": "253f6670",
   "metadata": {},
   "outputs": [],
   "source": [
    "'''10 This Triangular Number Sequence is generated from a pattern of dots that form a triangle. The first 5 numbers of the sequence, or dots, are:\n",
    "\n",
    "1, 3, 6, 10, 15\n",
    "This means that the first triangle has just one dot, the second one has three dots, the third one has 6 dots and so on.\n",
    "\n",
    "Write a function that returns the number of dots when given its corresponding triangle number of the sequence.\n",
    "\n",
    "Examples\n",
    "triangle(1) ➞ 1\n",
    "\n",
    "triangle(6) ➞ 21'''\n",
    "\n",
    "n=int(input('no.of triangle you want to calculate'))\n",
    "s=0\n",
    "for i in range(1,n+1):\n",
    "    s=s+i\n",
    "print('no.of dots are',s)"
   ]
  },
  {
   "cell_type": "code",
   "execution_count": null,
   "id": "fa05b9dc",
   "metadata": {},
   "outputs": [],
   "source": [
    "'''11 In BlackJack, cards are counted with -1, 0, 1 values:\n",
    "\n",
    "2, 3, 4, 5, 6 are counted as +1\n",
    "7, 8, 9 are counted as 0\n",
    "10, J, Q, K, A are counted as -1\n",
    "Create a function that counts the number and returns it from the list of cards provided.\n",
    "\n",
    "Examples\n",
    "count([5, 9, 10, 3, \"J\", \"A\", 4, 8, 5]) ➞ 1\n",
    "\n",
    "count([\"A\", \"A\", \"K\", \"Q\", \"Q\", \"J\"]) ➞ -6'''\n",
    "\n",
    "\n",
    "def count(cards):\n",
    "    count_value = 0\n",
    "\n",
    "    for card in cards:\n",
    "        if card in [2, 3, 4, 5, 6]:\n",
    "            count_value += 1\n",
    "        elif card in [10, 'J', 'Q', 'K', 'A']:\n",
    "            count_value -= 1\n",
    "\n",
    "    return count_value\n",
    "\n",
    "# Test case\n",
    "print(count([5, 9, 10, 3, \"J\", \"A\", 4, 8, 5]))\n"
   ]
  },
  {
   "cell_type": "code",
   "execution_count": null,
   "id": "4ab651e4",
   "metadata": {},
   "outputs": [],
   "source": [
    "'''12 Write a function that takes a list of elements and returns only the integers.\n",
    "\n",
    "Examples\n",
    "return_only_integer([9, 2, \"space\", \"car\", \"lion\", 16]) ➞ [9, 2, 16]\n",
    "\n",
    "return_only_integer([\"hello\", 81, \"basketball\", 123, \"fox\"]) ➞ [81, 123]\n",
    "'''\n",
    "\n",
    "def filter_list(l):  \n",
    "    output = []\n",
    "    for i in l:  \n",
    "        if type(i) != str:  \n",
    "            output.append(i)  \n",
    "    return output\n",
    "\n",
    "print(filter_list([1,'saara',2,'swami','sneha']))"
   ]
  },
  {
   "cell_type": "code",
   "execution_count": null,
   "id": "752b7f45",
   "metadata": {},
   "outputs": [],
   "source": [
    "'''13 An isogram is a word that has no duplicate letters. Create a function that takes a string and returns either True or False depending on whether or not it's an \"isogram\".\n",
    "\n",
    "Examples\n",
    "is_isogram(\"Algorism\") ➞ True\n",
    "\n",
    "is_isogram(\"PasSword\") ➞ False'''\n",
    "\n",
    "def is_isogram(word):\n",
    "    # Convert the word to lowercase to handle both upper and lower case letters\n",
    "    word = word.lower()\n",
    "\n",
    "    encountered_letters = set()\n",
    "\n",
    "    for letter in word:\n",
    "       \n",
    "        if letter in encountered_letters:\n",
    "            return False\n",
    "        else:\n",
    "            encountered_letters.add(letter)\n",
    "\n",
    "    return True\n",
    "\n",
    "print(is_isogram(\"Algorism\"))\n",
    "\n",
    "\n",
    "\n",
    "\n"
   ]
  },
  {
   "cell_type": "code",
   "execution_count": null,
   "id": "724f7119",
   "metadata": {},
   "outputs": [],
   "source": [
    "'''14 Given a list of numbers, write a function that returns a list that...\n",
    "\n",
    "Has all duplicate elements removed.\n",
    "Is sorted from least to greatest value.\n",
    "Examples\n",
    "unique_sort([1, 2, 4, 3]) ➞ [1, 2, 3, 4]\n",
    "\n",
    "unique_sort([1, 4, 4, 4, 4, 4, 3, 2, 1, 2]) ➞ [1, 2, 3, 4]'''\n",
    "\n",
    "list=[1, 4, 4, 4, 4, 4, 3, 2, 1, 2]\n",
    "new_list= []\n",
    "for i in list:\n",
    "    if i not in new_list:\n",
    "            new_list.append(i)\n",
    "    new_list.sort()\n",
    "print(new_list)"
   ]
  },
  {
   "cell_type": "code",
   "execution_count": null,
   "id": "9ce71ad1",
   "metadata": {},
   "outputs": [],
   "source": [
    "'''15 A set is a collection of unique items. A set can be formed from a list by removing all duplicate items.\n",
    "\n",
    "[1, 3, 3, 5, 5, 5]\n",
    "# original list\n",
    "\n",
    "[1, 3, 5]\n",
    "# original list transformed into a set\n",
    "Create a function that sorts a list and removes all duplicate items from it.\n",
    "\n",
    "Examples\n",
    "setify([1, 3, 3, 5, 5]) ➞ [1, 3, 5]\n",
    "\n",
    "setify([4, 4, 4, 4]) ➞ [4]\n",
    "\n",
    "setify([5, 7, 8, 9, 10, 15]) ➞ [5, 7, 8, 9, 10, 15]\n",
    "\n",
    "setify([3, 3, 3, 2, 1]) ➞ [1, 2, 3]'''\n",
    "\n",
    "list=[5, 7, 8, 9, 10,10,15, 15]\n",
    "def remove_duplicates(duplist):\n",
    "    noduplist=[]\n",
    "    for element in duplist:\n",
    "        if element not in noduplist:\n",
    "            noduplist.append(element)\n",
    "    return noduplist\n",
    "print(remove_duplicates(list))"
   ]
  },
  {
   "cell_type": "code",
   "execution_count": 45,
   "id": "96995497",
   "metadata": {},
   "outputs": [
    {
     "data": {
      "text/plain": [
       "['Becky', 'John', 'Steve']"
      ]
     },
     "execution_count": 45,
     "metadata": {},
     "output_type": "execute_result"
    }
   ],
   "source": [
    "'''16 Create a function that takes a dictionary of student names and returns a list of student names in alphabetical order.\n",
    "\n",
    "Examples\n",
    "get_student_names({\n",
    "  \"Student 1\" : \"Steve\",\n",
    "  \"Student 2\" : \"Becky\",\n",
    "  \"Student 3\" : \"John\"\n",
    "}) ➞ [\"Becky\", \"John\", \"Steve\"]'''\n",
    "\n",
    "a=({\n",
    "  \"Student 1\" : \"Steve\",\n",
    "  \"Student 2\" : \"Becky\",\n",
    "  \"Student 3\" : \"John\"})\n",
    "z=[]\n",
    "for i in a.keys():\n",
    "    z.append(a[i])\n",
    "    z.sort()\n",
    "z\n"
   ]
  },
  {
   "cell_type": "code",
   "execution_count": 46,
   "id": "eaa4de2f",
   "metadata": {},
   "outputs": [
    {
     "ename": "TypeError",
     "evalue": "'str' object is not callable",
     "output_type": "error",
     "traceback": [
      "\u001b[1;31m---------------------------------------------------------------------------\u001b[0m",
      "\u001b[1;31mTypeError\u001b[0m                                 Traceback (most recent call last)",
      "Cell \u001b[1;32mIn[46], line 15\u001b[0m\n\u001b[0;32m     13\u001b[0m final_lst\u001b[38;5;241m=\u001b[39m []\n\u001b[0;32m     14\u001b[0m \u001b[38;5;28;01mfor\u001b[39;00m i \u001b[38;5;129;01min\u001b[39;00m names:\n\u001b[1;32m---> 15\u001b[0m     final_lst\u001b[38;5;241m.\u001b[39mappend(\u001b[38;5;28;43mstr\u001b[39;49m\u001b[43m(\u001b[49m\u001b[43mi\u001b[49m\u001b[43m)\u001b[49m\u001b[38;5;241m+\u001b[39m\u001b[38;5;124m'\u001b[39m\u001b[38;5;124m \u001b[39m\u001b[38;5;124m'\u001b[39m\u001b[38;5;241m+\u001b[39m greeting)\n\u001b[0;32m     16\u001b[0m \u001b[38;5;28mprint\u001b[39m(final_lst)\n",
      "\u001b[1;31mTypeError\u001b[0m: 'str' object is not callable"
     ]
    }
   ],
   "source": [
    "'''17 In this exercise you will have to:\n",
    "\n",
    "Take a list of names.\n",
    "Add \"Hello\" to every name.\n",
    "Make one big string with all greetings.\n",
    "The solution should be one string with a comma in between every \"Hello (Name)\".\n",
    "\n",
    "Examples\n",
    "greet_people([\"Joe\"]) ➞ \"Hello Joe\"\n",
    "'''\n",
    "names=['sathvika','geetha','sanhitha']\n",
    "greeting='Hello'\n",
    "final_lst= []\n",
    "for i in names:\n",
    "    final_lst.append(str(i)+' '+ greeting)\n",
    "print(final_lst)"
   ]
  },
  {
   "cell_type": "code",
   "execution_count": 47,
   "id": "b5353f1a",
   "metadata": {},
   "outputs": [
    {
     "name": "stdout",
     "output_type": "stream",
     "text": [
      "5555\n",
      "5.0\n"
     ]
    }
   ],
   "source": [
    "'''18Create a function that returns the mean of all digits.\n",
    "\n",
    "Examples\n",
    "mean(42) ➞ 3\n",
    "\n",
    "mean(12345) ➞ 3\n",
    "\n",
    "mean(666) ➞ 6\n",
    "Notes\n",
    "The mean of all digits is the sum of digits / how many digits there are (e.g. mean of digits in 512 is (5+1+2)/3(number of digits) = 8/3=2).'''\n",
    "\n",
    "a=input()\n",
    "length=len(a)\n",
    "mean=0\n",
    "for i in a:\n",
    "    mean+=int(i)/length\n",
    "print(mean)"
   ]
  },
  {
   "cell_type": "code",
   "execution_count": 49,
   "id": "6920a13f",
   "metadata": {},
   "outputs": [
    {
     "name": "stdout",
     "output_type": "stream",
     "text": [
      "sky\n",
      "1\n"
     ]
    }
   ],
   "source": [
    "'''19 You're in the midst of creating a typing game.\n",
    "\n",
    "Create a function that takes in two lists: the list of user-typed words, and the list of correctly-typed words and outputs a list containing 1s (correctly-typed words) and -1s (incorrectly-typed words).\n",
    "\n",
    "# Inputs:\n",
    "User-typed: [\"cat\", \"blue\", \"skt\", \"umbrells\", \"paddy\"]\n",
    "Correct: [\"cat\", \"blue\", \"sky\", \"umbrella\", \"paddy\"]\n",
    "\n",
    "# Output: [1, 1, -1, -1, 1]\n",
    "Examples\n",
    "correct_stream(\n",
    "  [\"it\", \"is\", \"find\"],\n",
    "  [\"it\", \"is\", \"fine\"]\n",
    ") ➞ [1, 1, -1]\n",
    "\n",
    "correct_stream(\n",
    "  [\"april\", \"showrs\", \"bring\", \"may\", \"flowers\"],\n",
    "  [\"april\", \"showers\", \"bring\", \"may\", \"flowers\"]\n",
    ") ➞ [1, -1, 1, 1, 1]\n",
    "'''\n",
    "\n",
    "x= [\"cat\", \"blue\", \"skt\", \"umbrells\", \"paddy\"]\n",
    "y= [\"cat\", \"blue\", \"sky\", \"umbrella\", \"paddy\"]\n",
    "word=input()\n",
    "for i in x:\n",
    "    if i ==word:\n",
    "        print(-1)\n",
    "        \n",
    "for i in y:\n",
    "    if i==word:\n",
    "        print(1)\n",
    "\n"
   ]
  },
  {
   "cell_type": "code",
   "execution_count": 54,
   "id": "9f79771c",
   "metadata": {},
   "outputs": [
    {
     "name": "stdout",
     "output_type": "stream",
     "text": [
      "[True, False, True, True, True, True, False, True, False, True, False, True]\n"
     ]
    }
   ],
   "source": [
    "'''20 Create a function which returns a list of booleans, from a given number. Iterating through the number one digit at a time, append True if the digit is 1 and False if it is 0.\n",
    "\n",
    "Examples\n",
    "integer_boolean(\"100101\") ➞ [True, False, False, True, False, True]\n",
    "\n",
    "integer_boolean(\"10\") ➞ [True, False]\n",
    "'''\n",
    "\n",
    "def integer_boolean(number):\n",
    "    boolean_list = []\n",
    "    for digit in number:\n",
    "        if digit == '1':\n",
    "            boolean_list.append(True)\n",
    "        else:\n",
    "            boolean_list.append(False)\n",
    "    return boolean_list\n",
    "print(integer_boolean(\"101111010101\"))  "
   ]
  },
  {
   "cell_type": "code",
   "execution_count": 52,
   "id": "28a9b1a8",
   "metadata": {},
   "outputs": [
    {
     "name": "stdout",
     "output_type": "stream",
     "text": [
      "True\n"
     ]
    }
   ],
   "source": [
    "'''21 Create a function that returns True if the first list is a subset of the second. Return False otherwise.\n",
    "\n",
    "Examples\n",
    "is_subset([3, 2, 5], [5, 3, 7, 9, 2]) ➞ True\n",
    "\n",
    "is_subset([8, 9], [7, 1, 9, 8, 4, 5, 6]) ➞ True'''\n",
    "\n",
    "def is_subset(list1, list2):\n",
    "    for item in list1:\n",
    "        if item not in list2:\n",
    "            return False\n",
    "    return True\n",
    "\n",
    "# Test cases\n",
    "print(is_subset([3,2,5], [5, 3, 7, 9, 2]))  "
   ]
  },
  {
   "cell_type": "code",
   "execution_count": 53,
   "id": "47582840",
   "metadata": {},
   "outputs": [
    {
     "name": "stdout",
     "output_type": "stream",
     "text": [
      "[1, 2, 3, 40]\n"
     ]
    }
   ],
   "source": [
    "'''22 Given a list of scrabble tiles (as dictionaries), create a function that outputs the maximum possible score a player can achieve by summing up the total number of points for all the tiles in their hand. Each hand contains 7 scrabble tiles.\n",
    "\n",
    "Here's an example hand:\n",
    "\n",
    "[\n",
    "  { \"tile\": \"N\", \"score\": 1 },\n",
    "  { \"tile\": \"K\", \"score\": 5 },\n",
    "  { \"tile\": \"Z\", \"score\": 10 },\n",
    "  { \"tile\": \"X\", \"score\": 8 },\n",
    "  { \"tile\": \"D\", \"score\": 2 },\n",
    "  { \"tile\": \"A\", \"score\": 1 },\n",
    "  { \"tile\": \"E\", \"score\": 1 }\n",
    "]\n",
    "The player's maximum_score from playing all these tiles would be 1 + 5 + 10 + 8 + 2 + 1 + 1, or 28.\n",
    "\n",
    "Examples\n",
    "maximum_score([\n",
    "  { \"tile\": \"N\", \"score\": 1 },\n",
    "  { \"tile\": \"K\", \"score\": 5 },\n",
    "  { \"tile\": \"Z\", \"score\": 10 },\n",
    "  { \"tile\": \"X\", \"score\": 8 },\n",
    "  { \"tile\": \"D\", \"score\": 2 },\n",
    "  { \"tile\": \"A\", \"score\": 1 },\n",
    "  { \"tile\": \"E\", \"score\": 1 }\n",
    "]) ➞ 28\n",
    "\n",
    "maximum_score([\n",
    "  { \"tile\": \"B\", \"score\": 2 },\n",
    "  { \"tile\": \"V\", \"score\": 4 },\n",
    "  { \"tile\": \"F\", \"score\": 4 },\n",
    "  { \"tile\": \"U\", \"score\": 1 },\n",
    "  { \"tile\": \"D\", \"score\": 2 },\n",
    "  { \"tile\": \"O\", \"score\": 1 },\n",
    "  { \"tile\": \"U\", \"score\": 1 }\n",
    "]) ➞ 15'''\n",
    "\n",
    "\n",
    " "
   ]
  },
  {
   "cell_type": "code",
   "execution_count": 56,
   "id": "aff8d255",
   "metadata": {},
   "outputs": [
    {
     "name": "stdout",
     "output_type": "stream",
     "text": [
      "[1, 2, 3, 40, 5, 6, 7, 80, 9, 10]\n"
     ]
    }
   ],
   "source": [
    "'''23 Create a function that takes an integer and returns a list from 1 to the given number, where:\n",
    "\n",
    "If the number can be divided evenly by 4, amplify it by 10 (i.e. return 10 times the number).\n",
    "If the number cannot be divided evenly by 4, simply return the number.\n",
    "Examples\n",
    "amplify(4) ➞ [1, 2, 3, 40]\n",
    "\n",
    "amplify(3) ➞ [1, 2, 3]\n",
    "\n",
    "amplify(25) ➞ [1, 2, 3, 40, 5, 6, 7, 80, 9, 10, 11, 120, 13, 14, 15, '''\n",
    "\n",
    "def amplify_numbers(n):\n",
    "    result = []\n",
    "    for num in range(1, n + 1):\n",
    "        if num % 4 == 0:\n",
    "            result.append(num * 10)\n",
    "        else:\n",
    "            result.append(num)\n",
    "    return result\n",
    "\n",
    "# Example usage:\n",
    "input_number = 10\n",
    "print(amplify_numbers(input_number)) "
   ]
  },
  {
   "cell_type": "code",
   "execution_count": 63,
   "id": "502a2ec3",
   "metadata": {},
   "outputs": [
    {
     "name": "stdout",
     "output_type": "stream",
     "text": [
      "2\n"
     ]
    }
   ],
   "source": [
    "'''24 Return the smallest number of steps it takes to convert a string entirely into uppercase or entirely into lower case, whichever takes the fewest number of steps. A step consists of changing one character from lower to upper case, or vice versa.\n",
    "\n",
    "Examples\n",
    "steps_to_convert(\"abC\") ➞ 1\n",
    "# \"abC\" converted to \"abc\" in 1 step\n",
    "\n",
    "steps_to_convert(\"abCBA\") ➞ 2\n",
    "# \"abCBA\" converted to \"ABCBA\" in 2 steps\n",
    "\n",
    "steps_to_convert(\"aba\") ➞ 0\n",
    "\n",
    "steps_to_convert(\"abaCCC\") ➞ 3'''\n",
    "\n",
    "def steps_to_convert(s):\n",
    "    upper_count = 0\n",
    "    lower_count = 0\n",
    "\n",
    "    for char in s:\n",
    "        if char.isupper():\n",
    "            upper_count += 1\n",
    "        else:\n",
    "            lower_count += 1\n",
    "\n",
    "    return min(upper_count, lower_count)\n",
    "\n",
    "print(steps_to_convert(\"abCBA\"))\n"
   ]
  },
  {
   "cell_type": "code",
   "execution_count": 64,
   "id": "48c1f69a",
   "metadata": {},
   "outputs": [
    {
     "name": "stdout",
     "output_type": "stream",
     "text": [
      "12\n"
     ]
    }
   ],
   "source": [
    "'''25 Imagine a messaging device with only one button. For the letter A, you press the button one time, for E, you press it five times, for G, it's pressed seven times, etc, etc.\n",
    "\n",
    "Write a function that takes a string (the message) and returns the total number of times the button is pressed.\n",
    "\n",
    "Examples\n",
    "how_many_times(\"abde\") ➞ 12\n",
    "\n",
    "how_many_times(\"azy\") ➞ 52\n",
    "'''\n",
    "\n",
    "def how_many_times(message):\n",
    "    button_presses = {\n",
    "        'a': 1, 'b': 2, 'c': 3, 'd': 4, 'e': 5,\n",
    "        'f': 6, 'g': 7, 'h': 8, 'i': 9, 'j': 10,\n",
    "        'k': 11, 'l': 12, 'm': 13, 'n': 14, 'o': 15,\n",
    "        'p': 16, 'q': 17, 'r': 18, 's': 19, 't': 20,\n",
    "        'u': 21, 'v': 22, 'w': 23, 'x': 24, 'y': 25,\n",
    "        'z': 26,\n",
    "    }\n",
    "\n",
    "    total_presses = 0\n",
    "    for char in message:\n",
    "        total_presses += button_presses.get(char.lower(), 0)\n",
    "\n",
    "    return total_presses\n",
    "\n",
    "# Test case\n",
    "print(how_many_times(\"abde\")) "
   ]
  },
  {
   "cell_type": "code",
   "execution_count": 66,
   "id": "54417c82",
   "metadata": {},
   "outputs": [
    {
     "name": "stdout",
     "output_type": "stream",
     "text": [
      "NO!\n"
     ]
    }
   ],
   "source": [
    "'''26 I'm trying to watch some lectures to study for my next exam but I keep getting distracted by meme compilations, vine compilations, anime, and more on my favorite video platform.\n",
    "\n",
    "Your job is to help me create a function that takes a string and checks to see if it contains the following words or phrases:\n",
    "\n",
    "\"anime\"\n",
    "\"meme\"\n",
    "\"vines\"\n",
    "\"roasts\"\n",
    "\"Danny DeVito\"\n",
    "If it does, return \"NO!\". Otherwise, return \"Safe watching!\".\n",
    "\n",
    "Examples\n",
    "prevent_distractions(\"vines that butter my eggroll\") ➞ \"NO!\"\n",
    "'''\n",
    "\n",
    "def prevent_distractions(input_string):\n",
    "    distracting_words = [\"anime\", \"meme\", \"vines\", \"roasts\", \"Danny DeVito\"]\n",
    "\n",
    "    for word in distracting_words:\n",
    "        if word.lower() in input_string.lower():\n",
    "            return \"NO!\"\n",
    "\n",
    "    return \"Safe watching!\"\n",
    "print(prevent_distractions(\"vines that butter my eggroll\"))  "
   ]
  },
  {
   "cell_type": "code",
   "execution_count": 68,
   "id": "8eb47d58",
   "metadata": {},
   "outputs": [
    {
     "name": "stdout",
     "output_type": "stream",
     "text": [
      "The sum of all even elements is: 20\n"
     ]
    }
   ],
   "source": [
    "'''27 Create a function that returns the sum of all even elements in a 2D matrix.\n",
    "\n",
    "Examples\n",
    "sum_of_evens([\n",
    "  [1, 0, 2],\n",
    "  [5, 5, 7],\n",
    "  [9, 4, 3]\n",
    "]) ➞ 6\n",
    "\n",
    "// 2 + 4 = 6\n",
    "\n",
    "sum_of_evens([\n",
    "  [1, 1],\n",
    "  [1, 1]\n",
    "]) ➞ 0\n",
    "\n",
    "sum_of_evens([\n",
    "  [42, 9],\n",
    "  [16, 8]\n",
    "]) ➞ 66\n",
    "\n",
    "sum_of_evens([\n",
    "  [],\n",
    "  [],\n",
    "  []\n",
    "]) ➞ 0\n",
    "'''\n",
    "\n",
    "def sum_even_elements(matrix):\n",
    "    # Initialize the sum of even elements to zero\n",
    "    even_sum = 0\n",
    "\n",
    "    # Loop through each row in the matrix\n",
    "    for row in matrix:\n",
    "        # Loop through each element in the row\n",
    "        for element in row:\n",
    "            # Check if the element is even\n",
    "            if element % 2 == 0:\n",
    "                # Add the even element to the sum\n",
    "                even_sum += element\n",
    "\n",
    "    return even_sum\n",
    "\n",
    "# Test the function with an example 2D matrix\n",
    "matrix = [\n",
    "    [1, 2, 3],\n",
    "    [4, 5, 6],\n",
    "    [7, 8, 9]\n",
    "]\n",
    "\n",
    "result = sum_even_elements(matrix)\n",
    "print(f\"The sum of all even elements is: {result}\")"
   ]
  },
  {
   "cell_type": "code",
   "execution_count": 69,
   "id": "1a26d92a",
   "metadata": {},
   "outputs": [
    {
     "name": "stdout",
     "output_type": "stream",
     "text": [
      "True\n"
     ]
    }
   ],
   "source": [
    "'''28 A factor chain is a list where each previous element is a factor of the next consecutive element. The following is a factor chain:\n",
    "\n",
    "[3, 6, 12, 36]\n",
    "\n",
    "# 3 is a factor of 6\n",
    "# 6 is a factor of 12\n",
    "# 12 is a factor of 36\n",
    "Create a function that determines whether or not a list is a factor chain.\n",
    "\n",
    "Examples\n",
    "factor_chain([1, 2, 4, 8, 16, 32]) ➞ True\n",
    "\n",
    "factor_chain([1, 1, 1, 1, 1, 1]) ➞ True'''\n",
    "\n",
    "def factor_chain(lst):\n",
    "    for i in range(1, len(lst)):\n",
    "\n",
    "        if lst[i] % lst[i - 1] != 0:\n",
    "            return False\n",
    "\n",
    "    return True\n",
    "\n",
    "result = factor_chain([1, 2, 4, 8, 16, 32])\n",
    "print(result)"
   ]
  },
  {
   "cell_type": "code",
   "execution_count": 72,
   "id": "4a309c12",
   "metadata": {},
   "outputs": [
    {
     "name": "stdout",
     "output_type": "stream",
     "text": [
      "True\n"
     ]
    }
   ],
   "source": [
    "'''29 Create a function, that will for a given a, b, c, do the following:\n",
    "\n",
    "Add a to itself b times.\n",
    "Check if the result is divisible by c.\n",
    "Examples\n",
    "abcmath(42, 5, 10) ➞ False\n",
    "# 42+42 = 84,84+84 = 168,168+168 = 336,336+336 = 672, 672+672 = 1344\n",
    "# 1344 is not divisible by 10\n",
    "\n",
    "abcmath(5, 2, 1) ➞ True\n",
    "\n",
    "abcmath(1, 2, 3) ➞ False'''\n",
    "\n",
    "def abcmath(a, b, c):\n",
    "    result = a\n",
    "    for _ in range(b):\n",
    "        result += result\n",
    "    if result % c == 0:\n",
    "        return True\n",
    "    else:\n",
    "        return False\n",
    "\n",
    "result = abcmath(5, 2, 1)\n",
    "print(result)"
   ]
  },
  {
   "cell_type": "code",
   "execution_count": 73,
   "id": "4c6b003f",
   "metadata": {},
   "outputs": [
    {
     "name": "stdout",
     "output_type": "stream",
     "text": [
      "2\n"
     ]
    }
   ],
   "source": [
    "'''30 You are given a list of dates in the format Dec 11 and a month in the format Dec as arguments. Each date represents a video that was uploaded on that day. Return the number of uploads for a given month.\n",
    "\n",
    "Examples\n",
    "upload_count([\"Sept 22\", \"Sept 21\", \"Oct 15\"], \"Sept\") ➞ 2\n",
    "\n",
    "upload_count([\"Sept 22\", \"Sept 21\", \"Oct 15\"], \"Oct\") ➞ 1'''\n",
    "\n",
    "def upload_count(dates, target_month):\n",
    "    count = 0\n",
    "    for date in dates:\n",
    "        month = date.split()[0]\n",
    "        if month == target_month:\n",
    "            count += 1\n",
    "    return count\n",
    "\n",
    "print(upload_count([\"Sept 22\", \"Sept 21\", \"Oct 15\"], \"Sept\")) "
   ]
  },
  {
   "cell_type": "code",
   "execution_count": 77,
   "id": "6b4b56b3",
   "metadata": {},
   "outputs": [
    {
     "name": "stdout",
     "output_type": "stream",
     "text": [
      "even 146\n",
      "odd 314\n",
      "diff -168\n"
     ]
    }
   ],
   "source": [
    "'''31 There's a great war between the even and odd numbers. Many numbers already lost their lives in this war and it's your task to end this. You have to determine which group sums larger: the evens or the odds. The larger group wins.\n",
    "\n",
    "Create a function that takes a list of integers, sums the even and odd numbers separately, then returns the difference between the sums of the even and odd numbers.\n",
    "\n",
    "Examples\n",
    "war_of_numbers([2, 8, 7, 5]) ➞ 2\n",
    "# 2 + 8 = 10\n",
    "# 7 + 5 = 12\n",
    "# 12 is larger than 10\n",
    "# So we return 12 - 10 = 2\n",
    "\n",
    "war_of_numbers([12, 90, 75]) ➞ 27\n",
    "\n",
    "war_of_numbers([5, 9, 45, 6, 2, 7, 34, 8, 6, 90, 5, 243]) ➞ 168'''\n",
    "\n",
    "list=[5, 9, 45, 6, 2, 7, 34, 8, 6, 90, 5, 243]\n",
    "\n",
    "evensum =0\n",
    "oddsum=0\n",
    "\n",
    "for i in list:\n",
    "    if i%2==0:\n",
    "        evensum += i\n",
    "    else:\n",
    "        oddsum += i\n",
    "print(\"even\", evensum)\n",
    "print(\"odd\", oddsum)\n",
    "print(\"diff\",evensum-oddsum)\n",
    "\n",
    "\n"
   ]
  },
  {
   "cell_type": "code",
   "execution_count": 78,
   "id": "af23c4bf",
   "metadata": {},
   "outputs": [
    {
     "name": "stdout",
     "output_type": "stream",
     "text": [
      "enter the value:edabit\n",
      "[['edabit', 'edabit'], ['edabit', 'edabit']]\n"
     ]
    }
   ],
   "source": [
    "'''32 Write a function that takes three arguments (x, y, z) and returns a list containing x sublists (e.g. [[], [], []]), each containing y number of item z.\n",
    "\n",
    "x Number of sublists contained within the main list.\n",
    "y Number of items contained within each sublist.\n",
    "z Item contained within each sublist.\n",
    "Examples\n",
    "matrix(3, 2, 3) ➞ [[3, 3], [3, 3], [3, 3]]\n",
    "\n",
    "matrix(2, 1, \"edabit\") ➞ [[\"edabit\"], [\"edabit\"]]\n",
    "\n",
    "matrix(3, 2, 0) ➞ [[0, 0], [0, 0], [0, 0]]'''\n",
    "\n",
    "x=3\n",
    "y=2\n",
    "z=(input('enter the value:'))\n",
    "result = []\n",
    "for i in range(x):\n",
    "    sublist = []\n",
    "for j in range(y):\n",
    "    sublist.append(z)\n",
    "    result.append(sublist)\n",
    "print(result)"
   ]
  },
  {
   "cell_type": "code",
   "execution_count": 83,
   "id": "7779ec3f",
   "metadata": {},
   "outputs": [
    {
     "ename": "TypeError",
     "evalue": "'int' object is not callable",
     "output_type": "error",
     "traceback": [
      "\u001b[1;31m---------------------------------------------------------------------------\u001b[0m",
      "\u001b[1;31mTypeError\u001b[0m                                 Traceback (most recent call last)",
      "Cell \u001b[1;32mIn[83], line 17\u001b[0m\n\u001b[0;32m     14\u001b[0m     \u001b[38;5;28;01mreturn\u001b[39;00m total_value \u001b[38;5;241m-\u001b[39m policy_limit\n\u001b[0;32m     16\u001b[0m \u001b[38;5;66;03m# Test cases\u001b[39;00m\n\u001b[1;32m---> 17\u001b[0m \u001b[38;5;28mprint\u001b[39m(\u001b[43mcalc_diff\u001b[49m\u001b[43m(\u001b[49m\u001b[43m{\u001b[49m\u001b[43m \u001b[49m\u001b[38;5;124;43m\"\u001b[39;49m\u001b[38;5;124;43mbaseball bat\u001b[39;49m\u001b[38;5;124;43m\"\u001b[39;49m\u001b[43m:\u001b[49m\u001b[43m \u001b[49m\u001b[38;5;241;43m20\u001b[39;49m\u001b[43m \u001b[49m\u001b[43m}\u001b[49m\u001b[43m,\u001b[49m\u001b[43m \u001b[49m\u001b[38;5;241;43m5\u001b[39;49m\u001b[43m)\u001b[49m)\n",
      "Cell \u001b[1;32mIn[83], line 13\u001b[0m, in \u001b[0;36mcalc_diff\u001b[1;34m(stolen_items, policy_limit)\u001b[0m\n\u001b[0;32m     12\u001b[0m \u001b[38;5;28;01mdef\u001b[39;00m \u001b[38;5;21mcalc_diff\u001b[39m(stolen_items, policy_limit):\n\u001b[1;32m---> 13\u001b[0m     total_value \u001b[38;5;241m=\u001b[39m \u001b[38;5;28;43msum\u001b[39;49m\u001b[43m(\u001b[49m\u001b[43mstolen_items\u001b[49m\u001b[38;5;241;43m.\u001b[39;49m\u001b[43mvalues\u001b[49m\u001b[43m(\u001b[49m\u001b[43m)\u001b[49m\u001b[43m)\u001b[49m\n\u001b[0;32m     14\u001b[0m     \u001b[38;5;28;01mreturn\u001b[39;00m total_value \u001b[38;5;241m-\u001b[39m policy_limit\n",
      "\u001b[1;31mTypeError\u001b[0m: 'int' object is not callable"
     ]
    }
   ],
   "source": [
    "'''33 The insurance guy calls again and apologizes. They found another policy made by your spouse, but this one is limited to cover a particular maximum in losses (for example, 50,000€). You send a bill to your spouse for the difference you lost.\n",
    "\n",
    "Given a dict of the stolen items and a limit, return the difference between the total value of those items and the limit of the policy.\n",
    "\n",
    "Examples\n",
    "calc_diff({ \"baseball bat\": 20 }, 5) ➞ 15\n",
    "\n",
    "calc_diff({\"skate\": 10, \"painting\": 20 }, 19) ➞ 11\n",
    "\n",
    "calc_diff({\"skate\": 200, \"painting\": 200, \"shoes\": 1 }, 400) ➞ '''\n",
    "\n",
    "def calc_diff(stolen_items, policy_limit):\n",
    "    total_value = sum(stolen_items.values())\n",
    "    return total_value - policy_limit\n",
    "\n",
    "# Test cases\n",
    "print(calc_diff({ \"baseball bat\": 20 }, 5))      "
   ]
  },
  {
   "cell_type": "code",
   "execution_count": 88,
   "id": "8834b9a6",
   "metadata": {},
   "outputs": [
    {
     "name": "stdout",
     "output_type": "stream",
     "text": [
      "Input List: ['hello', 'tutorialspoint']\n",
      "total sum of ascii in word: [52, 209]\n",
      "52\n"
     ]
    }
   ],
   "source": [
    "'''34 Create a function that compares two words based on the sum of their ASCII codes and returns the word with the smaller ASCII sum.\n",
    "\n",
    "Examples\n",
    "ascii_sort([\"hey\", \"man\"]) ➞ \"man\"\n",
    "# [\"h\", \"e\", \"y\"] ➞ sum([104, 101, 121]) ➞ 326\n",
    "# [\"m\", \"a\", \"n\"] ➞ sum([109, 97, 110]) ➞ 316\n",
    "\n",
    "ascii_sort([\"majorly\", \"then\"]) ➞ \"then\"\n",
    "\n",
    "ascii_sort([\"victory\", \"careless\"]) ➞ \"victory\"\n",
    "Notes'''\n",
    "\n",
    "inputList = [\"hello\", \"tutorialspoint\"]\n",
    "print(\"Input List:\", inputList)\n",
    "resultList = []\n",
    "for i in inputList:\n",
    "    asciiValsSum = 0\n",
    "    for char in i:\n",
    "           asciiValsSum += (ord(char) - 96)\n",
    "    resultList.append(asciiValsSum)\n",
    "print(\"total sum of ascii in word:\", resultList)\n",
    "\n",
    "if resultList[0] < resultList[1]:\n",
    "    print(resultList[0])\n",
    "else:\n",
    "    print(resultList[1])"
   ]
  },
  {
   "cell_type": "code",
   "execution_count": 89,
   "id": "7a5d3716",
   "metadata": {},
   "outputs": [
    {
     "name": "stdout",
     "output_type": "stream",
     "text": [
      "Enter the value :11110010100000001010010001\n",
      "0000000\n"
     ]
    }
   ],
   "source": [
    "'''35 Write a function that returns the longest sequence of consecutive zeroes in a binary string.\n",
    "\n",
    "Examples\n",
    "longest_zero(\"01100001011000\") ➞ \"0000\"\n",
    "\n",
    "longest_zero(\"100100100\") ➞ \"00\"\n",
    "\n",
    "longest_zero(\"11111\") ➞ \"\"'''\n",
    "\n",
    "\n",
    "string=input('Enter the value :')\n",
    "max_zero = \"\"\n",
    "current_zero =\"\"\n",
    "\n",
    "for char in string:\n",
    "    if char=='0':\n",
    "        current_zero += '0'\n",
    "    else:\n",
    "        if len(current_zero) > len(max_zero):\n",
    "            max_zero = current_zero\n",
    "        current_zero = \"\"\n",
    "if len(current_zero) > len(max_zero):\n",
    "    max_zero = current_zero\n",
    "print(max_zero)"
   ]
  },
  {
   "cell_type": "code",
   "execution_count": 91,
   "id": "42afcf10",
   "metadata": {},
   "outputs": [
    {
     "name": "stdout",
     "output_type": "stream",
     "text": [
      "enter the string :imagine a school full of roses\n",
      "enigami a loohcs full of sesor\n"
     ]
    }
   ],
   "source": [
    "'''36 Write a function that takes a string of one or more words as an argument and returns the same string, but with all five or more letter words reversed. Strings passed in will consist of only letters and spaces. Spaces will be included only when more than one word is present.\n",
    "\n",
    "Examples\n",
    "reverse(\"Reverse\") ➞ \"esreveR\"\n",
    "\n",
    "reverse(\"This is a typical sentence.\") ➞ \"This is a lacipyt .ecnetnes\"\n",
    "\n",
    "reverse(\"The dog is big.\") ➞ \"The dog is big.\"'''\n",
    "\n",
    "\n",
    "string = input(\"enter the string :\")\n",
    "word = string.split(' ')\n",
    "rev_string = []\n",
    "\n",
    "for i in word:\n",
    "    if len(i) >= 5:\n",
    "        rev_word = ''.join(reversed(i))\n",
    "        rev_string.append(rev_word)\n",
    "    else:\n",
    "        rev_string.append(i)        \n",
    "print(' '.join(rev_string))\n"
   ]
  },
  {
   "cell_type": "code",
   "execution_count": 101,
   "id": "e46d71a9",
   "metadata": {},
   "outputs": [
    {
     "ename": "TypeError",
     "evalue": "'str' object is not callable",
     "output_type": "error",
     "traceback": [
      "\u001b[1;31m---------------------------------------------------------------------------\u001b[0m",
      "\u001b[1;31mTypeError\u001b[0m                                 Traceback (most recent call last)",
      "Cell \u001b[1;32mIn[101], line 14\u001b[0m\n\u001b[0;32m     12\u001b[0m \u001b[38;5;28;01mfor\u001b[39;00m y \u001b[38;5;129;01min\u001b[39;00m years:\n\u001b[0;32m     13\u001b[0m     \u001b[38;5;28;01mfor\u001b[39;00m section \u001b[38;5;129;01min\u001b[39;00m sections:\n\u001b[1;32m---> 14\u001b[0m         groups\u001b[38;5;241m.\u001b[39mappend(\u001b[38;5;28;43mstr\u001b[39;49m\u001b[43m(\u001b[49m\u001b[43my\u001b[49m\u001b[43m)\u001b[49m \u001b[38;5;241m+\u001b[39m section)\n\u001b[0;32m     16\u001b[0m all_groups_str \u001b[38;5;241m=\u001b[39m \u001b[38;5;124m'\u001b[39m\u001b[38;5;124m, \u001b[39m\u001b[38;5;124m'\u001b[39m\u001b[38;5;241m.\u001b[39mjoin(groups)\n\u001b[0;32m     17\u001b[0m \u001b[38;5;28mprint\u001b[39m(all_groups_str)\n",
      "\u001b[1;31mTypeError\u001b[0m: 'str' object is not callable"
     ]
    }
   ],
   "source": [
    "'''37 Imagine a school that kids attend for 6 years. In each year, there are five groups started, marked with the letters a, b, c, d, e. For the first year, the groups are 1a, 1b, 1c, 1d, 1e and for the last year, the groups are 6a, 6b, 6c, 6d, 6e.\n",
    "\n",
    "Write a function that returns the groups in the school by year (as a string), separated with a comma and a space in the form of \"1a, 1b, 1c, 1d, 1e, 2a, 2b (....) 5d, 5e, 6a, 6b, 6c, 6d, 6e\".\n",
    "\n",
    "Examples\n",
    "print_all_groups() ➞ \"1a, 1b, 1c, 1d, 1e, 2a, 2b, 2c, 2d, 2e, 3a, 3b, 3c, 3d, 3e, 4a, 4b, 4c, 4d, 4e, 5a, 5b, 5c, 5d, 5e, 6a, 6b, 6c, 6d, 6e \"'''\n",
    "\n",
    "groups = []\n",
    "years = range(1990, 1997)\n",
    "sections = ['a', 'b', 'c', 'd', 'e']\n",
    "\n",
    "for y in years:\n",
    "    for section in sections:\n",
    "        groups.append(str(y) + section)\n",
    "\n",
    "all_groups_str = ', '.join(groups)\n",
    "print(all_groups_str)\n"
   ]
  },
  {
   "cell_type": "markdown",
   "id": "593c6dcb",
   "metadata": {},
   "source": [
    "####### The function uses two nested loops: one for the years from 1 to 6 and another for the sections 'a' to 'e'. It creates the groups by combining the year and section and stores them in a list. Then, it joins all the groups into a single string using the join() function, separated by commas and spaces, as specified in the required format. The function returns the formatted string with all the groups."
   ]
  },
  {
   "cell_type": "code",
   "execution_count": 102,
   "id": "2fd650fa",
   "metadata": {},
   "outputs": [
    {
     "name": "stdout",
     "output_type": "stream",
     "text": [
      "{'A': 3, 'B': 2, 'C': 1}\n"
     ]
    }
   ],
   "source": [
    "'''38 Create a function that returns the frequency distribution of a list. This function should return an object, where the keys are the unique elements and the values are the frequency in which those elements occur.\n",
    "\n",
    "Examples\n",
    "get_frequencies([\"A\", \"B\", \"A\", \"A\", \"A\"]) ➞ { \"A\" : 4, \"B\" : 1 }\n",
    "\n",
    "get_frequencies([1, 2, 3, 3, 2]) ➞ { 1: 1, 2: 2, 3: 2 }\n",
    "\n",
    "get_frequencies([True, False, True, False, False]) ➞ { True: 2, False: 3 }\n",
    "\n",
    "get_frequencies([]) ➞ {}'''\n",
    "\n",
    "list= [\"A\",\"B\",\"C\",\"A\",\"A\",\"B\"]\n",
    "freq={}\n",
    "for i in list:\n",
    "    if i in freq:\n",
    "        freq[i] += 1\n",
    "    else:\n",
    "        freq[i] = 1\n",
    "        \n",
    "print(freq)"
   ]
  },
  {
   "cell_type": "markdown",
   "id": "75a2e855",
   "metadata": {},
   "source": [
    "##### In this implementation, we create an empty dictionary frequency_dict to store the frequency distribution. We then loop through each element in the input list lst. If the element is already present in the dictionary, we increment its value by 1. If it is not present, we add it to the dictionary with a value of 1. At the end of the loop, the frequency_dict will contain the frequency distribution of the elements in the list, and we return the dictionary as the final output."
   ]
  },
  {
   "cell_type": "code",
   "execution_count": 103,
   "id": "be9a3dba",
   "metadata": {},
   "outputs": [
    {
     "name": "stdout",
     "output_type": "stream",
     "text": [
      "[1, 3, 6, 10]\n"
     ]
    }
   ],
   "source": [
    "'''39 Cumulative List Sum\n",
    "Create a function that takes a list of numbers and returns a list where each number is the sum of itself + all previous numbers in the list.\n",
    "\n",
    "Examples\n",
    "cumulative_sum([1, 2, 3]) ➞ [1, 3, 6]\n",
    "\n",
    "cumulative_sum([1, -2, 3]) ➞ [1, -1, 2]\n",
    "\n",
    "cumulative_sum([3, 3, -2, 408, 3, 3]) ➞ [3, 6, 4, 412, 415, 418]'''\n",
    "\n",
    "numbers = [1,2,3,4]\n",
    "sum_list = []\n",
    "sum_value = 0\n",
    "\n",
    "for number in numbers:\n",
    "    sum_value += number\n",
    "    sum_list.append(sum_value)\n",
    "\n",
    "print(sum_list)\n"
   ]
  },
  {
   "cell_type": "markdown",
   "id": "ddc95233",
   "metadata": {},
   "source": [
    "##### In this implementation, we initialize an empty list cumulative_sum_list to store the cumulative sums and a variable cumulative_sum_value to keep track of the cumulative sum as we iterate through the input list numbers. In each iteration, we add the current number to the cumulative sum and append the new cumulative sum to the cumulative_sum_list. Finally, we return the list of cumulative sums as the result."
   ]
  },
  {
   "cell_type": "code",
   "execution_count": 104,
   "id": "342fde82",
   "metadata": {},
   "outputs": [
    {
     "name": "stdout",
     "output_type": "stream",
     "text": [
      "enter a sentence:it was then the frothy word\n",
      "i\n",
      "a\n",
      "s\n",
      "n\n",
      "f\n",
      "y\n",
      "d\n",
      "False\n"
     ]
    }
   ],
   "source": [
    "'''40 Find the First Non-Repeated Character\n",
    "Create a function that accepts a string as an argument and returns the first non-repeated character.\n",
    "\n",
    "Examples\n",
    "first_non_repeated_character(\"g\") ➞ \"g\"\n",
    "\n",
    "first_non_repeated_character(\"it was then the frothy word met the round night\") ➞ \"a\"\n",
    "\n",
    "first_non_repeated_character(\"the quick brown fox jumps then quickly blows air\") ➞ \"f\"\n",
    "'''\n",
    "\n",
    "s = input('enter a sentence:')\n",
    "char_count = {}\n",
    "    \n",
    "for char in s:                             # Count occurrences of each character in the string\n",
    "    char_count[char] = char_count.get(char, 0) + 1\n",
    "                                   # Find the first non-repeated character\n",
    "for char in s:\n",
    "    if char_count[char] == 1:\n",
    "        print(char)\n",
    "        \n",
    "print(False)                   # If no non-repeated character is found, return False\n"
   ]
  },
  {
   "cell_type": "code",
   "execution_count": 105,
   "id": "9b161761",
   "metadata": {},
   "outputs": [
    {
     "name": "stdout",
     "output_type": "stream",
     "text": [
      "a\n"
     ]
    }
   ],
   "source": [
    "def first_non_repeated_character(s):\n",
    "    char_count = {}\n",
    "    \n",
    "    # Count occurrences of each character in the string\n",
    "    for char in s:\n",
    "        char_count[char] = char_count.get(char, 0) + 1\n",
    "\n",
    "    # Find the first non-repeated character\n",
    "    for char in s:\n",
    "        if char_count[char] == 1:\n",
    "            return char\n",
    "\n",
    "    # If no non-repeated character is found, return False\n",
    "    return False\n",
    "\n",
    "print(first_non_repeated_character(\"it was then the frothy word met the round night\"))"
   ]
  },
  {
   "cell_type": "code",
   "execution_count": 111,
   "id": "94cb9677",
   "metadata": {},
   "outputs": [
    {
     "name": "stdout",
     "output_type": "stream",
     "text": [
      "True\n",
      "False\n"
     ]
    }
   ],
   "source": [
    "'''41 Create a function that returns True if an asterisk * is inside a box.\n",
    "\n",
    "Examples\n",
    "in_box([\n",
    "  \"###\",\n",
    "  \"#*#\",\n",
    "  \"###\"\n",
    "]) ➞ True\n",
    "\n",
    "in_box([\n",
    "  \"*####\",\n",
    "  \"# #\",\n",
    "  \"#  #*\",\n",
    "  \"####\"\n",
    "]) ➞ false\n",
    "\n",
    "'''\n",
    "\n",
    "box= [\n",
    "  \"###\",\n",
    "  \"#*#\",\n",
    "  \"###\"\n",
    "]\n",
    "rows = len(box)\n",
    "cols = len(box[0])\n",
    "    \n",
    "for i in range(1, rows - 1):\n",
    "    for j in range(1, cols - 1):\n",
    "        if box[i][j] == '*':\n",
    "            print(True)\n",
    "print(False)\n"
   ]
  },
  {
   "cell_type": "code",
   "execution_count": 112,
   "id": "5fd68657",
   "metadata": {},
   "outputs": [
    {
     "name": "stdout",
     "output_type": "stream",
     "text": [
      "True\n"
     ]
    }
   ],
   "source": [
    "def in_box(box):\n",
    "    rows = len(box)\n",
    "    cols = len(box[0])\n",
    "    \n",
    "    for i in range(1, rows - 1):\n",
    "        for j in range(1, cols - 1):\n",
    "            if box[i][j] == '*':\n",
    "                return True\n",
    "    \n",
    "    return False\n",
    "\n",
    "# Test cases\n",
    "print(in_box([\n",
    "  \"###\",\n",
    "  \"#*#\",\n",
    "  \"###\"\n",
    "]))"
   ]
  },
  {
   "cell_type": "code",
   "execution_count": 113,
   "id": "be888613",
   "metadata": {},
   "outputs": [
    {
     "name": "stdout",
     "output_type": "stream",
     "text": [
      "[{1, 3}]\n"
     ]
    }
   ],
   "source": [
    "'''42 Write a function that takes a list and returns a new list with unique positive (more than 0) numbers.\n",
    "\n",
    "Examples\n",
    "unique_lst([-5, 1, -7, -5, -2, 3, 3, -5, -1, -1]) ➞ [1, 3]\n",
    "\n",
    "unique_lst([3, -3, -3, 5, 5, -6, -2, -4, -1, 3]) ➞ [3, 5]\n",
    "'''\n",
    "list=[-5, 1, -7, -5, -2, 3, 3, -5, -1, -1]\n",
    "unique_posi = set()\n",
    "for num in list:\n",
    "    if num > 0:\n",
    "        unique_posi.add(num)\n",
    "\n",
    "print([unique_posi])\n"
   ]
  },
  {
   "cell_type": "code",
   "execution_count": 116,
   "id": "db2065a8",
   "metadata": {},
   "outputs": [
    {
     "name": "stdout",
     "output_type": "stream",
     "text": [
      "parallel r : 1.5\n"
     ]
    }
   ],
   "source": [
    "'''43 f two or more resistors are connected in parallel, the overall resistance of the circuit reduces. It is possible to calculate the total resistance of a parallel circuit by using this formula:\n",
    "\n",
    "1/RTotal = 1/R1 + 1/R2 + 1/R3 ...\n",
    "\n",
    "Create a function that takes a list of parallel resistance values, and calculates the total resistance of the circuit.\n",
    "\n",
    "Worked Example\n",
    "parallel_resistance([6, 3, 6]) ➞ 1.5\n",
    "\n",
    "# 1/RTotal = 1/6 + 1/3 + 1/6\n",
    "# 1/RTotal = 2/3\n",
    "# RTotal = 3/2 = 1.5\n",
    "'''\n",
    "\n",
    "resistances = [6, 3, 6]\n",
    "total_cond =0\n",
    "for r in resistances:\n",
    "    total_cond += 1/r\n",
    "print(\"parallel r :\",1/total_cond)"
   ]
  },
  {
   "cell_type": "code",
   "execution_count": 117,
   "id": "495db42d",
   "metadata": {},
   "outputs": [
    {
     "name": "stdout",
     "output_type": "stream",
     "text": [
      "255\n"
     ]
    }
   ],
   "source": [
    "'''44 An employee working at a very bizarre company earns one penny on their first day. However, for every day that passes, their base amount doubles, so they earn two pennies on the second day and four pennies on the third day (totalling 7 pennies). Given a number of days, return how many pennies the employee accumulates.\n",
    "\n",
    "Examples\n",
    "doubled_pay(1) ➞ 1\n",
    "\n",
    "doubled_pay(2) ➞ 3\n",
    "'''\n",
    "\n",
    "days= 8\n",
    "total_pennies = 0\n",
    "earning = 1\n",
    "\n",
    "for day in range(1, days + 1):\n",
    "        total_pennies += earning\n",
    "        earning *= 2\n",
    "\n",
    "print(total_pennies)\n"
   ]
  },
  {
   "cell_type": "markdown",
   "id": "63229a82",
   "metadata": {},
   "source": [
    "##### In this function, we initialize total_pennies to keep track of the running total and current_earning to keep track of the employee's earnings for the current day. We start with day 1 and iterate up to the given days (inclusive) using a for loop.For each day, we add the current_earning to the total_pennies and then update the current_earning by multiplying it by 2 to reflect the doubling for the next day. After iterating through all the days, the function returns the final total_pennies accumulated by the employee."
   ]
  },
  {
   "cell_type": "code",
   "execution_count": 119,
   "id": "677c31b9",
   "metadata": {},
   "outputs": [
    {
     "name": "stdout",
     "output_type": "stream",
     "text": [
      "enter a string :This is a title\n",
      "This Is A Title\n"
     ]
    }
   ],
   "source": [
    "'''45 Create a function that takes a string as an argument and converts the first character of each word to uppercase. Return the newly formatted string.\n",
    "\n",
    "Examples\n",
    "make_title(\"This is a title\") ➞ \"This Is A Title\"\n",
    "'''\n",
    "String = input('enter a string :')\n",
    "x=String.title()\n",
    "\n",
    "print(x)"
   ]
  },
  {
   "cell_type": "code",
   "execution_count": 120,
   "id": "038ef37d",
   "metadata": {
    "scrolled": true
   },
   "outputs": [
    {
     "name": "stdout",
     "output_type": "stream",
     "text": [
      "enter the string :This might be a bit hard\n",
      "This might e  it hrd\n",
      "['T', 'h', 'i', 's', ' ', 'm', 'i', 'g', 'h', 't', ' ', 'e', ' ', ' ', 'i', 't', ' ', 'h', 'r', 'd']\n"
     ]
    }
   ],
   "source": [
    "'''46 Remove the Letters ABC\n",
    "Create a function that will remove the letters \"a\", \"b\" and \"c\" from the given string and return the modified version. If the given string does not contain \"a\", \"b\", or \"c\", return None.\n",
    "\n",
    "Examples\n",
    "remove_abc(\"This might be a bit hard\") ➞ \"This might e  it hrd\"\n",
    "'''\n",
    "string = input('enter the string :')\n",
    "chars_to_remove = {'a', 'b', 'c'}                 # Creating a set of characters to be removed\n",
    "\n",
    "new_chars = []                    # Initialize an empty list to store the characters\n",
    "\n",
    "for char in string:\n",
    "    if char not in chars_to_remove:                                  # Check if the character is not in chars_to_remove\n",
    "        new_chars.append(char)\n",
    "if not new_chars:        # If modified_chars is empty, it means no \"a\", \"b\", or \"c\" was found\n",
    "    print(None)\n",
    "\n",
    "print(''.join(new_chars))\n",
    "\n",
    "print(new_chars) \n",
    "\n",
    "\n"
   ]
  },
  {
   "cell_type": "code",
   "execution_count": 129,
   "id": "45f9ad34",
   "metadata": {},
   "outputs": [
    {
     "name": "stdout",
     "output_type": "stream",
     "text": [
      "True\n"
     ]
    }
   ],
   "source": [
    "'''48 Write a function that takes two lists and adds the first element in the first list with the first element in the second list, the second element in the first list with the second element in the second list, etc, etc. Return True if all element combinations add up to the same number. Otherwise, return False.\n",
    "\n",
    "Examples\n",
    "puzzle_pieces([1, 2, 3, 4], [4, 3, 2, 1]) ➞ True\n",
    "# 1 + 4 = 5;  2 + 3 = 5;  3 + 2 = 5;  4 + 1 = 5\n",
    "# Both lists sum to [5, 5, 5, 5]\n",
    "'''\n",
    "\n",
    "def puzzle_pieces(list1, list2):\n",
    "   \n",
    "    if len(list1) != len(list2):\n",
    "        return False\n",
    "\n",
    "    sums = [list1[i] + list2[i] for i in range(len(list1))]\n",
    "\n",
    "    return all(s == sums[0] for s in sums)\n",
    "\n",
    "print(puzzle_pieces([1, 2, 3, 4], [4, 3, 2, 1])) "
   ]
  },
  {
   "cell_type": "code",
   "execution_count": 131,
   "id": "585ecf6d",
   "metadata": {},
   "outputs": [
    {
     "name": "stdout",
     "output_type": "stream",
     "text": [
      "S-Aa-Nnn-Hhhh-Iiiii-Tttttt-Aaaaaaa\n"
     ]
    }
   ],
   "source": [
    "'''50 Create a function that takes a string and returns a new string with each new character accumulating by +1. Separate each set with a dash.\n",
    "\n",
    "Examples\n",
    "accum(\"abcd\") ➞ \"A-Bb-Ccc-Dddd\"'''\n",
    "def accum(s):\n",
    "    result = \"\"\n",
    "    for i, char in enumerate(s):\n",
    "        result += char.upper() + char.lower() * i\n",
    "        if i != len(s) - 1:\n",
    "            result += \"-\"\n",
    "    return result\n",
    "\n",
    "print(accum(\"sanhita\")) "
   ]
  },
  {
   "cell_type": "markdown",
   "id": "9979434e",
   "metadata": {},
   "source": [
    "### ******************************************************************************************"
   ]
  },
  {
   "cell_type": "code",
   "execution_count": null,
   "id": "d5dcdffb",
   "metadata": {},
   "outputs": [],
   "source": [
    "### MEDIUM"
   ]
  },
  {
   "cell_type": "code",
   "execution_count": 5,
   "id": "9c2d5a8d",
   "metadata": {},
   "outputs": [
    {
     "data": {
      "text/plain": [
       "[6, 12, 18]"
      ]
     },
     "execution_count": 5,
     "metadata": {},
     "output_type": "execute_result"
    }
   ],
   "source": [
    "'''1 Create a function that takes two numbers as arguments (num, length) and \n",
    "returns a list of multiples of num until the list length reaches length\n",
    "'''\n",
    "\n",
    "def list_of_multiples(num, length):\n",
    "    x, z = 1, 0\n",
    "    y = []\n",
    "    while x <= length:\n",
    "        y.append(num * x)\n",
    "        z += 1\n",
    "        x += 1\n",
    "    return y\n",
    "\n",
    "list_of_multiples(6,3)\n",
    "\n"
   ]
  },
  {
   "cell_type": "code",
   "execution_count": 6,
   "id": "bfa4b6b9",
   "metadata": {},
   "outputs": [
    {
     "name": "stdout",
     "output_type": "stream",
     "text": [
      "['#####', '#####', '#####']\n"
     ]
    }
   ],
   "source": [
    "'''2 Write a function that accepts the height and width (m, n) and an optional proc s and generates a list with m elements. Each element is a string consisting of either:\n",
    "\n",
    "The default character (hash #) repeating n times (if no proc is given).\n",
    "The character passed in through the proc repeating n times.\n",
    "Examples\n",
    "make_rug(3, 5, '#') ➞ [\n",
    "  \"#####\",\n",
    "  \"#####\",\n",
    "  \"#####\"\n",
    "]'''\n",
    "\n",
    "def make_rug(m, n, proc='#'):\n",
    "    return [proc * n for _ in range(m)]\n",
    "result = make_rug(3, 5, '#')\n",
    "print(result)\n"
   ]
  },
  {
   "cell_type": "code",
   "execution_count": 7,
   "id": "ea8f2822",
   "metadata": {},
   "outputs": [
    {
     "name": "stdout",
     "output_type": "stream",
     "text": [
      "{'piano': 200}\n"
     ]
    }
   ],
   "source": [
    "'''3 You prepare a list to send to the insurance company. As you finish, you notice you misformatted it. Given a dictionary with at least one key/value pair, convert all the values to numbers.\n",
    "\n",
    "Examples\n",
    "convert_to_number({ \"piano\": \"200\" }) ➞ { \"piano\": 200 }'''\n",
    "\n",
    "def convert_to_number(data):\n",
    "    for key in data:\n",
    "        data[key] = int(data[key])\n",
    "    return data\n",
    "result = convert_to_number({ \"piano\": \"200\" })\n",
    "print(result)"
   ]
  },
  {
   "cell_type": "code",
   "execution_count": 8,
   "id": "0943dd94",
   "metadata": {},
   "outputs": [
    {
     "name": "stdout",
     "output_type": "stream",
     "text": [
      "[7, 9]\n"
     ]
    }
   ],
   "source": [
    "'''4 In each input list, every number repeats at least once, except for two. Write a function that returns the two unique numbers.\n",
    "\n",
    "Examples\n",
    "return_unique([1, 9, 8, 8, 7, 6, 1, 6]) ➞ [9, 7]\n",
    "\n",
    "return_unique([5, 5, 2, 4, 4, 4, 9, 9, 9, 1]) ➞ [2, 1]'''\n",
    "\n",
    "def return_unique(nums):\n",
    "    xor_result = 0\n",
    "\n",
    "    # Find the XOR of all elements in the list\n",
    "    for num in nums:\n",
    "        xor_result ^= num\n",
    "\n",
    "    rightmost_set_bit = xor_result & -xor_result\n",
    "\n",
    "    num1 = 0\n",
    "    num2 = 0\n",
    "\n",
    "    for num in nums:\n",
    "        if num & rightmost_set_bit:\n",
    "            num1 ^= num\n",
    "        else:\n",
    "            num2 ^= num\n",
    "\n",
    "    return [num1, num2]\n",
    "print(return_unique([1, 9, 8, 8, 7, 6, 1, 6]))\n",
    "\n",
    "\n"
   ]
  },
  {
   "cell_type": "code",
   "execution_count": 9,
   "id": "33890973",
   "metadata": {},
   "outputs": [
    {
     "name": "stdout",
     "output_type": "stream",
     "text": [
      "0\n",
      "3\n",
      "2\n"
     ]
    }
   ],
   "source": [
    "'''5 Create a function that takes a number (step) as an argument and returns the amount of boxes in that step of the sequence.\n",
    "\n",
    "Box Sequence Image\n",
    "\n",
    "Step 0: Start with 0\n",
    "Step 1: Add 3\n",
    "Step 2: Subtract 1\n",
    "Repeat Step 1 & 2 ...\n",
    "Examples\n",
    "box_seq(0) ➞ 0'''\n",
    "\n",
    "def box_seq(step):\n",
    "    boxes = 0\n",
    "    for i in range(1, step + 1):\n",
    "        if i % 2 == 1:  # odd step\n",
    "            boxes += 3\n",
    "        else:  # even step\n",
    "            boxes -= 1\n",
    "    return boxes\n",
    "\n",
    "# Test cases\n",
    "print(box_seq(0))  # Output: 0\n",
    "print(box_seq(1))  # Output: 3\n",
    "print(box_seq(2))  # Output: 2"
   ]
  },
  {
   "cell_type": "code",
   "execution_count": 10,
   "id": "f36caa6b",
   "metadata": {},
   "outputs": [
    {
     "name": "stdout",
     "output_type": "stream",
     "text": [
      "False\n",
      "True\n"
     ]
    }
   ],
   "source": [
    "'''6 A number is said to be Harshad if it's exactly divisible by the sum of its digits. Create a function that determines whether a number is a Harshad or not.\n",
    "\n",
    "Examples\n",
    "is_harshad(75) ➞ False\n",
    "# 7 + 5 = 12\n",
    "# 75 is not exactly divisible by 12\n",
    " \n",
    "is_harshad(171) ➞ True\n",
    "# 1 + 7 + 1 = 9\n",
    "# 9 exactly divides 171\n",
    " '''\n",
    "\n",
    "def is_harshad(number):\n",
    "    num_str = str(number)\n",
    "    digit_sum = sum(int(digit) for digit in num_str)\n",
    "\n",
    "    return number % digit_sum == 0\n",
    "\n",
    "print(is_harshad(75)) \n",
    "print(is_harshad(171))"
   ]
  },
  {
   "cell_type": "code",
   "execution_count": 13,
   "id": "e1a6fc03",
   "metadata": {},
   "outputs": [
    {
     "name": "stdout",
     "output_type": "stream",
     "text": [
      "Imagine A Rose\n"
     ]
    }
   ],
   "source": [
    "'''7 The challenge is to recreate the functionality of the title() method into a function called emphasise(). The title() method capitalises the first letter of every word and lowercases all of the other letters in the word.\n",
    "\n",
    "Examples\n",
    "emphasise(\"hello world\") ➞ \"Hello World\"'''\n",
    "\n",
    "def emphasise(text):\n",
    "    words = text.split()\n",
    "    emphasized_words = [word.capitalize() for word in words]\n",
    "    return ' '.join(emphasized_words)\n",
    "print(emphasise(\"imagine a rose\"))"
   ]
  },
  {
   "cell_type": "code",
   "execution_count": 11,
   "id": "20a4f1de",
   "metadata": {},
   "outputs": [
    {
     "name": "stdout",
     "output_type": "stream",
     "text": [
      "Dislike\n"
     ]
    }
   ],
   "source": [
    "'''8 YouTube currently displays a like and a dislike button, allowing you to express your opinions about particular content. It's set up in such a way that you cannot like and dislike a video at the same time.\n",
    "\n",
    "There are two other interesting rules to be noted about the interface:\n",
    "\n",
    "Pressing a button, which is already active, will undo your press.\n",
    "If you press the like button after pressing the dislike button, the like button overwrites the previous \"dislike\" state. The same is true for the other way round.\n",
    "Create a function that takes in a list of button inputs and returns the final state.\n",
    "\n",
    "Examples\n",
    "like_or_dislike([\"Dislike\"]) ➞ \"Dislike\"'''\n",
    "\n",
    "def like_or_dislike(buttons):\n",
    "    current_state = None\n",
    "\n",
    "    for button in buttons:\n",
    "        if button == \"Like\":\n",
    "            current_state = \"Like\" if current_state != \"Dislike\" else None\n",
    "        elif button == \"Dislike\":\n",
    "            current_state = \"Dislike\" if current_state != \"Like\" else None\n",
    "\n",
    "    return current_state\n",
    "\n",
    "# Test cases\n",
    "print(like_or_dislike([\"Dislike\"]))"
   ]
  },
  {
   "cell_type": "code",
   "execution_count": 14,
   "id": "e6855436",
   "metadata": {},
   "outputs": [
    {
     "name": "stdout",
     "output_type": "stream",
     "text": [
      "2\n"
     ]
    }
   ],
   "source": [
    "'''9 To train for an upcoming marathon, Johnny goes on one long-distance run each Saturday. He wants to track how often the number of miles he runs exceeds the previous Saturday. This is called a progress day.\n",
    "\n",
    "Create a function that takes in a list of miles run every Saturday and returns Johnny's total number of progress days.\n",
    "\n",
    "Examples\n",
    "progress_days([3, 4, 1, 2]) ➞ 2'''\n",
    "\n",
    "def progress_days(miles_list):\n",
    "    progress_count = 0\n",
    "    for i in range(1, len(miles_list)):\n",
    "        if miles_list[i] > miles_list[i - 1]:\n",
    "            progress_count += 1\n",
    "    return progress_count\n",
    "\n",
    "print(progress_days([3, 4, 1, 2]))"
   ]
  },
  {
   "cell_type": "code",
   "execution_count": 15,
   "id": "47354947",
   "metadata": {},
   "outputs": [
    {
     "name": "stdout",
     "output_type": "stream",
     "text": [
      "[[3, 3, 3], [3, 3, 3], [3, 3, 3]]\n"
     ]
    }
   ],
   "source": [
    "'''10 Create a function that takes an integer and outputs an n x n square solely consisting of the integer n.\n",
    "\n",
    "Examples\n",
    "square_patch(3) ➞ [\n",
    "  [3, 3, 3],\n",
    "  [3, 3, 3],\n",
    "  [3, 3, 3]\n",
    "]'''\n",
    "\n",
    "def square_patch(n):\n",
    "    return [[n for _ in range(n)] for _ in range(n)]\n",
    "print(square_patch(3))"
   ]
  },
  {
   "cell_type": "code",
   "execution_count": 16,
   "id": "e08debfe",
   "metadata": {},
   "outputs": [
    {
     "name": "stdout",
     "output_type": "stream",
     "text": [
      "10\n"
     ]
    }
   ],
   "source": [
    "'''11 This is a reverse coding challenge. Normally you're given explicit directions with how to create a function. Here, you must generate your own function to satisfy the relationship between the inputs and outputs.\n",
    "\n",
    "Your task is to create a function that, when fed the inputs below, produces the sample outputs shown.\n",
    "\n",
    "Examples\n",
    "mystery_func(152) ➞ 10\n",
    "\n",
    "mystery_func(832) ➞ 48\n",
    "'''\n",
    "\n",
    "def mystery_func(number):\n",
    "    product = 1\n",
    "    for digit in str(number):\n",
    "        product *= int(digit)\n",
    "    return product\n",
    "print(mystery_func(152))  "
   ]
  },
  {
   "cell_type": "code",
   "execution_count": 17,
   "id": "77a2659e",
   "metadata": {},
   "outputs": [
    {
     "name": "stdout",
     "output_type": "stream",
     "text": [
      "000000\n"
     ]
    }
   ],
   "source": [
    "'''12 Given two strings comprised of + and -, return a new string which shows how the two strings interact in the following way:\n",
    "\n",
    "When positives and positives interact, they remain positive.\n",
    "When negatives and negatives interact, they remain negative.\n",
    "But when negatives and positives interact, they become neutral, and are shown as the number 0. neutralise(\"--++--\", \"++--++\") ➞ \"000000\"\n",
    "'''\n",
    "\n",
    "def neutralise(s1, s2):\n",
    "    result = \"\"\n",
    "    for c1, c2 in zip(s1, s2):\n",
    "        if c1 == c2:\n",
    "            result += c1\n",
    "        else:\n",
    "            result += \"0\"\n",
    "    return result\n",
    "\n",
    "print(neutralise(\"--++--\", \"++--++\"))"
   ]
  },
  {
   "cell_type": "code",
   "execution_count": 19,
   "id": "84f8efcc",
   "metadata": {},
   "outputs": [
    {
     "name": "stdout",
     "output_type": "stream",
     "text": [
      "2\n",
      "3\n"
     ]
    }
   ],
   "source": [
    "'''13 The iterated square root of a number is the number of times the square root function must be applied to bring the number strictly under 2.\n",
    "\n",
    "Given an integer, return its iterated square root. Return \"invalid\" if it is negative.\n",
    "\n",
    "Examples\n",
    "i_sqrt(1) ➞ 0\n",
    "\n",
    "i_sqrt(2) ➞ 1'''\n",
    "\n",
    "def i_sqrt(number):\n",
    "    if number < 0:\n",
    "        return \"invalid\"\n",
    "\n",
    "    iterations = 0\n",
    "    while number >= 2:\n",
    "        number = number ** 0.5\n",
    "        iterations += 1\n",
    "\n",
    "    return iterations\n",
    "print(i_sqrt(8))\n",
    "print(i_sqrt(16))  "
   ]
  },
  {
   "cell_type": "code",
   "execution_count": 20,
   "id": "bc6737f4",
   "metadata": {},
   "outputs": [
    {
     "name": "stdout",
     "output_type": "stream",
     "text": [
      "3\n",
      "5\n"
     ]
    }
   ],
   "source": [
    "'''14 Create a function that counts the integer's number of digits.\n",
    "\n",
    "Examples\n",
    "count(318) ➞ 3\n",
    "\n",
    "count(-92563) ➞ 5\n",
    "\n",
    "'''\n",
    "\n",
    "def count(number):\n",
    "    return len(str(abs(number)))\n",
    "print(count(318))     \n",
    "print(count(-92563))  "
   ]
  },
  {
   "cell_type": "code",
   "execution_count": 21,
   "id": "51937a76",
   "metadata": {},
   "outputs": [
    {
     "name": "stdout",
     "output_type": "stream",
     "text": [
      "2\n"
     ]
    }
   ],
   "source": [
    "'''15 Create a function that returns the amount of duplicate characters in a string. It will be case sensitive and spaces are included. If there are no duplicates, return 0.\n",
    "\n",
    "Examples\n",
    "duplicates(\"Hello World!\") ➞ 3\n",
    "# \"o\" = 2, \"l\" = 3.\n",
    "# \"o\" is duplicated 1 extra time and \"l\" is duplicated 2 extra times.\n",
    "# Hence 1 + 2 = 3'''\n",
    "\n",
    "def duplicates(text):\n",
    "    char_counts = {}\n",
    "    for char in text:\n",
    "        char_counts[char] = char_counts.get(char, 0) + 1\n",
    "    duplicate_count = sum(1 for count in char_counts.values() if count > 1)\n",
    "\n",
    "    return duplicate_count\n",
    "print(duplicates(\"Hello World!\")) "
   ]
  },
  {
   "cell_type": "code",
   "execution_count": 22,
   "id": "dde98fe1",
   "metadata": {},
   "outputs": [
    {
     "name": "stdout",
     "output_type": "stream",
     "text": [
      "hijklmno\n"
     ]
    }
   ],
   "source": [
    "'''16 Given a string containing unique letters, return a sorted string with the letters that don't appear in the string.\n",
    "\n",
    "Examples\n",
    "get_missing_letters(\"abcdefgpqrstuvwxyz\") ➞ \"hijklmno\"\n",
    "\n",
    "get_missing_letters(\"zyxwvutsrq\") ➞ \"abcdefghijklmnop\"'''\n",
    "\n",
    "def get_missing_letters(text):\n",
    "\n",
    "    all_letters = 'abcdefghijklmnopqrstuvwxyz'\n",
    "\n",
    "    missing_letters = ''.join(letter for letter in all_letters if letter not in text)\n",
    "\n",
    "    return missing_letters\n",
    "\n",
    "print(get_missing_letters(\"abcdefgpqrstuvwxyz\")) "
   ]
  },
  {
   "cell_type": "code",
   "execution_count": 23,
   "id": "470696ab",
   "metadata": {},
   "outputs": [
    {
     "name": "stdout",
     "output_type": "stream",
     "text": [
      "21\n"
     ]
    }
   ],
   "source": [
    "'''17 John is playing a dice game. The rules are as follows.\n",
    "\n",
    "Roll two dice.\n",
    "Add the numbers on the dice together.\n",
    "Add the total to your overall score.\n",
    "Repeat this for three rounds.\n",
    "But if you roll DOUBLES, your score is instantly wiped to 0 and your game ends immediately!\n",
    "\n",
    "Create a function that takes in a list of tuples as input, and return John's score after his game has ended.\n",
    "\n",
    "Examples\n",
    "dice_game([(1, 2), (3, 4), (5, 6)]) ➞ 21'''\n",
    "\n",
    "def dice_game(dice_rolls):\n",
    "    overall_score = 0\n",
    "\n",
    "    for roll in dice_rolls:\n",
    "        if roll[0] == roll[1]:  \n",
    "            return 0\n",
    "        else:\n",
    "            overall_score += sum(roll)\n",
    "\n",
    "    return overall_score\n",
    "\n",
    "print(dice_game([(1, 2), (3, 4), (5, 6)]))  "
   ]
  },
  {
   "cell_type": "code",
   "execution_count": 26,
   "id": "2211b4a9",
   "metadata": {},
   "outputs": [
    {
     "name": "stdout",
     "output_type": "stream",
     "text": [
      " I Love My Teapot\n"
     ]
    }
   ],
   "source": [
    "'''18 Create a function which adds spaces before every capital in a word. Uncapitalize the whole string afterwards.\n",
    "\n",
    "Examples\n",
    "cap_space(\"helloWorld\") ➞ \"i love my teapot\"'''\n",
    "\n",
    "def cap_space(word):\n",
    "    result = ''\n",
    "    for char in word:\n",
    "        if char.isupper():\n",
    "            result += ' ' + char\n",
    "        else:\n",
    "            result += char.lower()\n",
    "    return result\n",
    "\n",
    "# Test case\n",
    "print(cap_space(\"ILoveMyTeapot\"))"
   ]
  },
  {
   "cell_type": "code",
   "execution_count": 27,
   "id": "0d2e755a",
   "metadata": {},
   "outputs": [
    {
     "name": "stdout",
     "output_type": "stream",
     "text": [
      "True\n"
     ]
    }
   ],
   "source": [
    "'''19 Syncopation means an emphasis on a weak beat of a bar of music; most commonly, beats 2 and 4 (and all other even-numbered beats if applicable).\n",
    "\n",
    "You will be given a string representing beats, where hashtags # represent emphasized beats. Create a function that returns if True the line of music contains any syncopation, and False otherwise.\n",
    "\n",
    "Examples\n",
    "has_syncopation(\".#.#.#.#\") ➞ True\n",
    "# There are Hash signs in the second, fourth, sixth and\n",
    "# eighth positions of the string.'''\n",
    "\n",
    "def has_syncopation(beats):\n",
    "    for i in range(1, len(beats), 2): \n",
    "        if beats[i] == '#':\n",
    "            return True\n",
    "    return False\n",
    "\n",
    "print(has_syncopation(\".#.#.#.#\"))"
   ]
  },
  {
   "cell_type": "code",
   "execution_count": 28,
   "id": "bd96ed5d",
   "metadata": {},
   "outputs": [
    {
     "name": "stdout",
     "output_type": "stream",
     "text": [
      "[9, -2, 15]\n"
     ]
    }
   ],
   "source": [
    "'''20 Create a function that performs an even-odd transform to a list, n times. Each even-odd transformation:\n",
    "\n",
    "Adds two (+2) to each odd integer.\n",
    "Subtracts two (-2) from each even integer.\n",
    "Examples\n",
    "even_odd_transform([3, 4, 9], 3) ➞ [9, -2, 15]\n",
    "# Since [3, 4, 9] => [5, 2, 11] => [7, 0, 13] => [9, -2, 15]\n",
    "'''\n",
    "\n",
    "def even_odd_transform(lst, n):\n",
    "    for _ in range(n):\n",
    "        lst = [num + 2 if num % 2 == 1 else num - 2 for num in lst]\n",
    "    return lst\n",
    "print(even_odd_transform([3, 4, 9], 3)) "
   ]
  },
  {
   "cell_type": "code",
   "execution_count": null,
   "id": "0a522dff",
   "metadata": {},
   "outputs": [],
   "source": [
    "'''21 Create a function that takes a list of numbers and return \"Boom!\" if the digit 7 appears in the list. Otherwise, return \"there is no 7 in the list\".\n",
    "\n",
    "Examples\n",
    "seven_boom([1, 2, 3, 4, 5, 6, 7]) ➞ \"Boom!\"\n",
    "# 7 contains the number seven'''\n",
    "\n",
    "def seven_boom(lst):\n",
    "    for num in lst:\n",
    "        if '7' in str(num):\n",
    "            return \"Boom!\"\n",
    "    return \"there is no 7 in the list\"\n",
    "\n",
    "print(seven_boom([1, 2, 3, 4, 5, 6, 7])) "
   ]
  },
  {
   "cell_type": "code",
   "execution_count": 29,
   "id": "f0fdce9a",
   "metadata": {},
   "outputs": [
    {
     "name": "stdout",
     "output_type": "stream",
     "text": [
      "True\n"
     ]
    }
   ],
   "source": [
    "'''22 Create a function which returns whether your character survives their unsupervised diving experience, given a list of integers.\n",
    "diving_minigame([1, 2, 3, 4, 5, 6, 7, 8, 9, 10]) ➞ True'''\n",
    "\n",
    "def diving_minigame(seconds_list):\n",
    "    current_depth = 0\n",
    "    for seconds in seconds_list:\n",
    "        current_depth += 1\n",
    "        if current_depth == seconds:\n",
    "            return True\n",
    "    return False\n",
    "\n",
    "# Test case\n",
    "print(diving_minigame([1, 2, 3, 4, 5, 6, 7, 8, 9, 10]))"
   ]
  },
  {
   "cell_type": "code",
   "execution_count": 30,
   "id": "dcea04e5",
   "metadata": {},
   "outputs": [
    {
     "name": "stdout",
     "output_type": "stream",
     "text": [
      "14*C\n"
     ]
    }
   ],
   "source": [
    "'''23 Given n number of layers and a given temperature, return the temperature inside of all those warm fuzzy layers. Round to the nearest tenth of a degree.\n",
    "\n",
    "calc_bundled_temp(2, \"10*C\") ➞ \"12.1*C\"'''\n",
    "\n",
    "def calc_bundled_temp(layers, temperature):\n",
    "   \n",
    "    value, unit = temperature.split(\"*\")\n",
    "    value = int(value)\n",
    "\n",
    "    if unit == \"C\":\n",
    "        celsius_temp = value\n",
    "    elif unit == \"F\":\n",
    "        celsius_temp = (value - 32) * 5 / 9\n",
    "    else:  \n",
    "        celsius_temp = value - 273.15\n",
    "\n",
    "    celsius_temp += 2 * layers\n",
    "\n",
    "    if unit == \"C\":\n",
    "        result_temp = celsius_temp\n",
    "    elif unit == \"F\":\n",
    "        result_temp = celsius_temp * 9 / 5 + 32\n",
    "    else:  \n",
    "        result_temp = celsius_temp + 273.15\n",
    "\n",
    "    return f\"{round(result_temp, 1)}*{unit}\"\n",
    "\n",
    "print(calc_bundled_temp(2, \"10*C\")) \n"
   ]
  },
  {
   "cell_type": "code",
   "execution_count": 31,
   "id": "059eacb6",
   "metadata": {},
   "outputs": [
    {
     "name": "stdout",
     "output_type": "stream",
     "text": [
      "[1, 3, 6, 10]\n"
     ]
    }
   ],
   "source": [
    "'''24 Create a function that takes in a list and returns a list of the accumulating sum.\n",
    "\n",
    "Examples\n",
    "accumulating_list([1, 2, 3, 4]) ➞ [1, 3, 6, 10]\n",
    "\n",
    "'''\n",
    "\n",
    "def accumulating_list(lst):\n",
    "    output = []\n",
    "    running_sum = 0\n",
    "\n",
    "    for num in lst:\n",
    "        running_sum += num\n",
    "        output.append(running_sum)\n",
    "\n",
    "    return output\n",
    "\n",
    "print(accumulating_list([1, 2, 3, 4]))"
   ]
  },
  {
   "cell_type": "code",
   "execution_count": 32,
   "id": "2b888da3",
   "metadata": {},
   "outputs": [
    {
     "name": "stdout",
     "output_type": "stream",
     "text": [
      "255\n"
     ]
    }
   ],
   "source": [
    "'''25 You are given one input: a list containing eight 1's and/or 0's. Write a function that takes an 8 bit binary number and converts it to decimal.\n",
    "\n",
    "Examples\n",
    "binary_to_decimal([1, 1, 1, 1, 1, 1, 1, 1]) ➞ 255'''\n",
    "\n",
    "def binary_to_decimal(binary_list):\n",
    "    decimal_num = 0\n",
    "    for i in range(len(binary_list)):\n",
    "        decimal_num += binary_list[i] * (2 ** (len(binary_list) - i - 1))\n",
    "    return decimal_num\n",
    "\n",
    "print(binary_to_decimal([1, 1, 1, 1, 1, 1, 1, 1]))  "
   ]
  },
  {
   "cell_type": "code",
   "execution_count": 33,
   "id": "dc6ddd68",
   "metadata": {},
   "outputs": [
    {
     "name": "stdout",
     "output_type": "stream",
     "text": [
      "10\n"
     ]
    }
   ],
   "source": [
    "'''26 Write a function that finds the largest even number in a list. Return -1 if not found. The use of built-in functions max() and sorted() are prohibited.\n",
    "\n",
    "Examples\n",
    "largest_even([3, 7, 2, 1, 7, 9, 10, 13]) ➞ 10\n",
    "\n",
    "\n",
    "'''\n",
    "\n",
    "def largest_even(nums):\n",
    "    largest_even_num = -1\n",
    "\n",
    "    for num in nums:\n",
    "        if num % 2 == 0 and num > largest_even_num:\n",
    "            largest_even_num = num\n",
    "\n",
    "    return largest_even_num\n",
    "\n",
    "print(largest_even([3, 7, 2, 1, 7, 9, 10, 13])) "
   ]
  },
  {
   "cell_type": "code",
   "execution_count": 34,
   "id": "49974960",
   "metadata": {},
   "outputs": [
    {
     "name": "stdout",
     "output_type": "stream",
     "text": [
      "unknown\n"
     ]
    }
   ],
   "source": [
    "'''27 Create a function where given a chord progression as a list, return the type of cadence the phrase ends on.\n",
    "\n",
    "Examples\n",
    "find_cadence([\"I\", \"IV\", \"V\"]) ➞ \"imperfect\"'''\n",
    "\n",
    "def find_cadence(chord_progression):\n",
    "    last_chord, second_last_chord = chord_progression[-1], chord_progression[-2]\n",
    "\n",
    "    if second_last_chord == \"V\" and last_chord == \"I\":\n",
    "        return \"perfect\"\n",
    "    elif second_last_chord != \"V\" and last_chord == \"I\":\n",
    "        return \"imperfect\"\n",
    "    elif second_last_chord == \"IV\" and last_chord == \"I\":\n",
    "        return \"plagal\"\n",
    "    elif second_last_chord == \"V\" and last_chord != \"I\":\n",
    "        return \"interrupted\"\n",
    "    else:\n",
    "        return \"unknown\"\n",
    "\n",
    "print(find_cadence([\"I\", \"IV\", \"V\"]))"
   ]
  },
  {
   "cell_type": "code",
   "execution_count": 35,
   "id": "bbd65e1a",
   "metadata": {},
   "outputs": [
    {
     "name": "stdout",
     "output_type": "stream",
     "text": [
      "APP500\n"
     ]
    }
   ],
   "source": [
    "'''28 Create a function that creates product IDs for different fruit juices.\n",
    "\n",
    "Examples\n",
    "get_drink_ID(\"apple\", \"500ml\") ➞ \"APP500\"'''\n",
    "\n",
    "def get_drink_ID(fruit, size):\n",
    "    \n",
    "    fruit_id = fruit[:3].upper()\n",
    "\n",
    "    size_id = size[:3]\n",
    "\n",
    "    product_id = fruit_id + size_id\n",
    "\n",
    "    return product_id\n",
    "\n",
    "print(get_drink_ID(\"apple\", \"500ml\"))"
   ]
  },
  {
   "cell_type": "code",
   "execution_count": 36,
   "id": "438f2850",
   "metadata": {},
   "outputs": [
    {
     "name": "stdout",
     "output_type": "stream",
     "text": [
      "True\n"
     ]
    }
   ],
   "source": [
    "'''29 Create a function that determines whether elements in an array can be re-arranged to form a consecutive list of numbers where each number appears exactly once.\n",
    "\n",
    "Examples\n",
    "cons([5, 1, 4, 3, 2]) ➞ True'''\n",
    "\n",
    "def cons(arr):\n",
    "    sorted_arr = sorted(arr)\n",
    "    for i in range(1, len(sorted_arr)):\n",
    "        if sorted_arr[i] != sorted_arr[i - 1] + 1:\n",
    "            return False\n",
    "    return True\n",
    "\n",
    "print(cons([5, 1, 4, 3, 2]))  "
   ]
  },
  {
   "cell_type": "code",
   "execution_count": 37,
   "id": "ff001c6b",
   "metadata": {},
   "outputs": [
    {
     "name": "stdout",
     "output_type": "stream",
     "text": [
      "[1, 3, 4, 7]\n"
     ]
    }
   ],
   "source": [
    "'''30 Create a function that takes two lists of numbers sorted in ascending order and returns a list of numbers which are common to both the input lists.\n",
    "\n",
    "Examples\n",
    "common_elements([-1, 3, 4, 6, 7, 9], [1, 3]) ➞ [3]\n",
    "\n",
    "common_elements([1, 3, 4, 6, 7, 9], [1, 2, 3, 4, 7, 10]) ➞ [1, 3, 4, 7]\n",
    "'''\n",
    "\n",
    "def common_elements(list1, list2):\n",
    "    result = []\n",
    "    pointer1, pointer2 = 0, 0\n",
    "\n",
    "    while pointer1 < len(list1) and pointer2 < len(list2):\n",
    "        if list1[pointer1] == list2[pointer2]:\n",
    "            result.append(list1[pointer1])\n",
    "            pointer1 += 1\n",
    "            pointer2 += 1\n",
    "        elif list1[pointer1] < list2[pointer2]:\n",
    "            pointer1 += 1\n",
    "        else:\n",
    "            pointer2 += 1\n",
    "\n",
    "    return result\n",
    "\n",
    "print(common_elements([1, 3, 4, 6, 7, 9], [1, 2, 3, 4, 7, 10])) "
   ]
  },
  {
   "cell_type": "code",
   "execution_count": 42,
   "id": "28e0754a",
   "metadata": {},
   "outputs": [
    {
     "name": "stdout",
     "output_type": "stream",
     "text": [
      "['H', 'He', 'Hel', 'Hell', 'Hello', 'Hell', 'Hel', 'He', 'H']\n"
     ]
    }
   ],
   "source": [
    "'''31 Given a string, create a function that outputs a list, building and deconstructing the string letter by letter. See the examples below for some helpful guidance.\n",
    "\n",
    "Examples\n",
    "construct_deconstruct(\"Hello\") ➞ [\n",
    "  \"H\",\n",
    "  \"He\",\n",
    "  \"Hel\",\n",
    "  \"Hell\",\n",
    "  \"Hello\",\n",
    "  \"Hell\",\n",
    "  \"Hel\",\n",
    "  \"He\",\n",
    "  \"H\"\n",
    "]'''\n",
    "\n",
    "def construct_deconstruct(s):\n",
    "    result = []\n",
    "    n = len(s)\n",
    "\n",
    "    \n",
    "    for i in range(1, n + 1):\n",
    "        result.append(s[:i])\n",
    "\n",
    "    for i in range(n - 1, 0, -1):\n",
    "        result.append(s[:i])\n",
    "\n",
    "    return result\n",
    "\n",
    "print(construct_deconstruct(\"Hello\"))"
   ]
  },
  {
   "cell_type": "code",
   "execution_count": 43,
   "id": "bbf7cd60",
   "metadata": {},
   "outputs": [
    {
     "name": "stdout",
     "output_type": "stream",
     "text": [
      "[['f', 'g'], ['j', 'k']]\n"
     ]
    }
   ],
   "source": [
    "'''32 Given a list of lists, return a new list of lists containing every element, except for the outer elements.\n",
    "\n",
    "Examples\n",
    "peel_layer_off([\n",
    "  [\"a\", \"b\", \"c\", \"d\"],\n",
    "  [\"e\", \"f\", \"g\", \"h\"],\n",
    "  [\"i\", \"j\", \"k\", \"l\"],\n",
    "  [\"m\", \"n\", \"o\", \"p\"]\n",
    "]) '''\n",
    "\n",
    "def peel_layer_off(lst):\n",
    "    result = []\n",
    "\n",
    "    for inner_list in lst[1:-1]:\n",
    "        result.append(inner_list[1:-1])\n",
    "\n",
    "    return result\n",
    "\n",
    "print(peel_layer_off([\n",
    "  [\"a\", \"b\", \"c\", \"d\"],\n",
    "  [\"e\", \"f\", \"g\", \"h\"],\n",
    "  [\"i\", \"j\", \"k\", \"l\"],\n",
    "  [\"m\", \"n\", \"o\", \"p\"]\n",
    "]))"
   ]
  },
  {
   "cell_type": "code",
   "execution_count": 45,
   "id": "3ee11f27",
   "metadata": {},
   "outputs": [
    {
     "name": "stdout",
     "output_type": "stream",
     "text": [
      "0\n"
     ]
    }
   ],
   "source": [
    "'''33 Create a function which returns the index of the first carriage which holds 50% or less of its maximum capacity. If no such carriage exists, return -1.\n",
    "find_a_seat(200, [35, 23, 40, 21, 38]) ➞ -1'''\n",
    "\n",
    "def find_a_seat(max_capacity, carriages):\n",
    "    for i, capacity in enumerate(carriages):\n",
    "        if capacity <= max_capacity / 2:\n",
    "            return i\n",
    "    return -1\n",
    "\n",
    "print(find_a_seat(200, [35, 23, 40, 21, 38]))"
   ]
  },
  {
   "cell_type": "code",
   "execution_count": 46,
   "id": "21dd2cf9",
   "metadata": {},
   "outputs": [
    {
     "name": "stdout",
     "output_type": "stream",
     "text": [
      "poem\n"
     ]
    }
   ],
   "source": [
    "'''34 Write a function that takes a string, and returns a new string with any duplicate consecutive letters removed.\n",
    "\n",
    "Examples\n",
    "unstretch(\"ppoeemm\") ➞ \"poem\"'''\n",
    "\n",
    "def unstretch(s):\n",
    "    result = \"\"\n",
    "    prev_char = None\n",
    "\n",
    "    for char in s:\n",
    "        if char != prev_char:\n",
    "            result += char\n",
    "        prev_char = char\n",
    "\n",
    "    return result\n",
    "\n",
    "print(unstretch(\"ppoeemm\")) "
   ]
  },
  {
   "cell_type": "code",
   "execution_count": 49,
   "id": "a8c36ec3",
   "metadata": {},
   "outputs": [
    {
     "ename": "TypeError",
     "evalue": "'list' object is not callable",
     "output_type": "error",
     "traceback": [
      "\u001b[1;31m---------------------------------------------------------------------------\u001b[0m",
      "\u001b[1;31mTypeError\u001b[0m                                 Traceback (most recent call last)",
      "Cell \u001b[1;32mIn[49], line 22\u001b[0m\n\u001b[0;32m     20\u001b[0m current_temps \u001b[38;5;241m=\u001b[39m [[\u001b[38;5;241m34\u001b[39m, \u001b[38;5;241m82\u001b[39m], [\u001b[38;5;241m24\u001b[39m, \u001b[38;5;241m82\u001b[39m], [\u001b[38;5;241m20\u001b[39m, \u001b[38;5;241m89\u001b[39m], [\u001b[38;5;241m5\u001b[39m, \u001b[38;5;241m88\u001b[39m], [\u001b[38;5;241m9\u001b[39m, \u001b[38;5;241m88\u001b[39m], [\u001b[38;5;241m26\u001b[39m, \u001b[38;5;241m89\u001b[39m], [\u001b[38;5;241m27\u001b[39m, \u001b[38;5;241m83\u001b[39m]]\n\u001b[0;32m     21\u001b[0m record_temps \u001b[38;5;241m=\u001b[39m [[\u001b[38;5;241m44\u001b[39m, \u001b[38;5;241m72\u001b[39m], [\u001b[38;5;241m19\u001b[39m, \u001b[38;5;241m70\u001b[39m], [\u001b[38;5;241m40\u001b[39m, \u001b[38;5;241m69\u001b[39m], [\u001b[38;5;241m39\u001b[39m, \u001b[38;5;241m68\u001b[39m], [\u001b[38;5;241m33\u001b[39m, \u001b[38;5;241m64\u001b[39m], [\u001b[38;5;241m36\u001b[39m, \u001b[38;5;241m70\u001b[39m], [\u001b[38;5;241m38\u001b[39m, \u001b[38;5;241m69\u001b[39m]]\n\u001b[1;32m---> 22\u001b[0m \u001b[38;5;28mprint\u001b[39m(\u001b[43mrecord_temps\u001b[49m\u001b[43m(\u001b[49m\u001b[43mcurrent_temps\u001b[49m\u001b[43m,\u001b[49m\u001b[43m \u001b[49m\u001b[43mrecord_temps\u001b[49m\u001b[43m)\u001b[49m)\n",
      "\u001b[1;31mTypeError\u001b[0m: 'list' object is not callable"
     ]
    }
   ],
   "source": [
    "'''35 Compare the daily low/high temperatures of the current week to the record lows/highs and return a list with the updated record temperatures.\n",
    "\n",
    "There may be multiple record temperatures in a week.\n",
    "If there are no broken records return the original records list.\n",
    "Example\n",
    "#             sun       mon      tues       wed      thur      fri       sat\n",
    "record_temps([[34, 82], [24, 82], [20, 89],  [5, 88],  [9, 88], [26, 89], [27, 83]],\n",
    "            [[44, 72], [19, 70], [40, 69], [39, 68], [33, 64], [36, 70], [38, 69]])'''\n",
    "\n",
    "def record_temps(current_temps, record_temps):\n",
    "    updated_records = []\n",
    "\n",
    "    for current_low, current_high in current_temps:\n",
    "        updated_temps = [min(current_low, record_low), max(current_high, record_high)]\n",
    "        updated_records.append(updated_temps)\n",
    "\n",
    "    return updated_records\n",
    "\n",
    "# Test case\n",
    "current_temps = [[34, 82], [24, 82], [20, 89], [5, 88], [9, 88], [26, 89], [27, 83]]\n",
    "record_temps = [[44, 72], [19, 70], [40, 69], [39, 68], [33, 64], [36, 70], [38, 69]]\n",
    "print(record_temps(current_temps, record_temps))"
   ]
  },
  {
   "cell_type": "code",
   "execution_count": 50,
   "id": "bf2afdad",
   "metadata": {},
   "outputs": [
    {
     "name": "stdout",
     "output_type": "stream",
     "text": [
      "bokeper\n"
     ]
    }
   ],
   "source": [
    "'''36 Create a function that replaces all consecutively repeated letters in a word with single letters.\n",
    "\n",
    "Examples\n",
    "remove_repeats(\"aaabbbccc\") ➞ \"abc\"\n",
    "\n",
    "remove_repeats(\"bookkeeper\") ➞ \"bokeper\"'''\n",
    "\n",
    "def remove_repeats(word):\n",
    "    result = \"\"\n",
    "    prev_char = None\n",
    "\n",
    "    for char in word:\n",
    "        if char != prev_char:\n",
    "            result += char\n",
    "        prev_char = char\n",
    "\n",
    "    return result\n",
    "\n",
    "print(remove_repeats(\"bookkeeper\")) "
   ]
  },
  {
   "cell_type": "code",
   "execution_count": 51,
   "id": "36a1baae",
   "metadata": {},
   "outputs": [
    {
     "name": "stdout",
     "output_type": "stream",
     "text": [
      "[10, 11, 12, 13, 14, 15, 16, 17, 18, 19, 20]\n"
     ]
    }
   ],
   "source": [
    "'''37 Write a function that, given the start_of_range and end_of_range values, returns an array containing all the numbers inclusive to that range. See examples below.\n",
    "\n",
    "Examples\n",
    "reversible_inclusive_list(10, 20) ➞ [10, 11, 12, 13, 14, 15, 16, 17, 18, 19, 20]'''\n",
    "\n",
    "def reversible_inclusive_list(start_of_range, end_of_range):\n",
    "    return [num for num in range(start_of_range, end_of_range + 1)]\n",
    "\n",
    "print(reversible_inclusive_list(10, 20))"
   ]
  },
  {
   "cell_type": "code",
   "execution_count": 52,
   "id": "01bbe195",
   "metadata": {},
   "outputs": [
    {
     "name": "stdout",
     "output_type": "stream",
     "text": [
      "Make sure you only reverse words of odd length\n"
     ]
    }
   ],
   "source": [
    "'''38 Given a string, reverse all the words which have odd length. The even length words are not changed.\n",
    "\n",
    "Examples\n",
    "reverse_odd(\"Make sure uoy only esrever sdrow of ddo length\")\n",
    "'''\n",
    "\n",
    "def reverse_odd(s):\n",
    "    words = s.split()\n",
    "    reversed_words = [word[::-1] if len(word) % 2 != 0 else word for word in words]\n",
    "    return ' '.join(reversed_words)\n",
    "\n",
    "print(reverse_odd(\"Make sure uoy only esrever sdrow of ddo length\"))"
   ]
  },
  {
   "cell_type": "code",
   "execution_count": 54,
   "id": "f9ecfdce",
   "metadata": {},
   "outputs": [
    {
     "name": "stdout",
     "output_type": "stream",
     "text": [
      "3\n",
      "1\n"
     ]
    }
   ],
   "source": [
    "'''39 Given a list of numbers, of any length, create a function which counts how many of those numbers pass the following criteria:\n",
    "\n",
    "The first and last digits of a number must add to 10.\n",
    "Examples\n",
    "ends_add_to_10([19, 46, 2098]) ➞ 3\n",
    "\n",
    "ends_add_to_10([33, 44, -55]) ➞ 1\n",
    "'''\n",
    "\n",
    "def ends_add_to_10(numbers):\n",
    "    def add_to_10(num):\n",
    "        num_str = str(abs(num))  # Convert the number to its absolute value and then to a string\n",
    "        return int(num_str[0]) + int(num_str[-1]) == 10\n",
    "\n",
    "    count = sum(1 for num in numbers if add_to_10(num))\n",
    "    return count\n",
    "\n",
    "print(ends_add_to_10([19, 46, 2098]))  \n",
    "print(ends_add_to_10([33, 44, -55])) "
   ]
  },
  {
   "cell_type": "code",
   "execution_count": 55,
   "id": "6c91d134",
   "metadata": {},
   "outputs": [
    {
     "name": "stdout",
     "output_type": "stream",
     "text": [
      "1-2-3-4\n",
      "1-2-3-4-5-6-7-8-9-10-11\n"
     ]
    }
   ],
   "source": [
    "'''40 Create a function which takes in a number n as input and returns all numbers up to and including n joined together in a string. Separate each digit from each other with the character \"-\".\n",
    "\n",
    "Examples\n",
    "join_digits(4) ➞ \"1-2-3-4\"\n",
    "\n",
    "join_digits(11) ➞ \"1-2-3-4-5-6-7-8-9-1-0-1-1\"\n",
    "'''\n",
    "\n",
    "def join_digits(n):\n",
    "    numbers = [str(i) for i in range(1, n + 1)]\n",
    "    return \"-\".join(numbers)\n",
    "\n",
    "print(join_digits(4))\n",
    "print(join_digits(11)) "
   ]
  },
  {
   "cell_type": "code",
   "execution_count": 56,
   "id": "e868347b",
   "metadata": {},
   "outputs": [
    {
     "name": "stdout",
     "output_type": "stream",
     "text": [
      "[3]\n",
      "[72, 81, 99]\n"
     ]
    }
   ],
   "source": [
    "'''41 Given a list nums where each integer is between 1 and 100, return a sorted list containing only duplicate numbers from the given nums list.\n",
    "\n",
    "Examples\n",
    "duplicate_nums([1, 2, 3, 4, 3, 5, 6]) ➞ [3]\n",
    "\n",
    "duplicate_nums([81, 72, 43, 72, 81, 99, 99, 100, 12, 54]) ➞ [72, 81, 99]'''\n",
    "\n",
    "def duplicate_nums(nums):\n",
    "    duplicates = sorted({num for num in nums if nums.count(num) > 1})\n",
    "    return duplicates\n",
    "\n",
    "print(duplicate_nums([1, 2, 3, 4, 3, 5, 6]))  \n",
    "print(duplicate_nums([81, 72, 43, 72, 81, 99, 99, 100, 12, 54])) "
   ]
  },
  {
   "cell_type": "code",
   "execution_count": 57,
   "id": "410ac78d",
   "metadata": {},
   "outputs": [
    {
     "name": "stdout",
     "output_type": "stream",
     "text": [
      "aei\n",
      "aoeau\n"
     ]
    }
   ],
   "source": [
    "'''42 Write a function that returns the first n vowels of a string.\n",
    "\n",
    "Examples\n",
    "first_n_vowels(\"sharpening skills\", 3) ➞ \"aei\"\n",
    "\n",
    "first_n_vowels(\"major league\", 5) ➞ \"aoeau\"'''\n",
    "\n",
    "def first_n_vowels(s, n):\n",
    "    vowels = \"aeiou\"\n",
    "    result = \"\"\n",
    "\n",
    "    for char in s:\n",
    "        if char.lower() in vowels:\n",
    "            result += char\n",
    "            n -= 1\n",
    "            if n == 0:\n",
    "                break\n",
    "\n",
    "    return result\n",
    "\n",
    "print(first_n_vowels(\"sharpening skills\", 3)) \n",
    "print(first_n_vowels(\"major league\", 5))"
   ]
  },
  {
   "cell_type": "code",
   "execution_count": 58,
   "id": "e92a3a5e",
   "metadata": {},
   "outputs": [
    {
     "name": "stdout",
     "output_type": "stream",
     "text": [
      "['tuna', 'bread', 'ham', 'bread', 'tomato']\n",
      "['bread', 'cheese', 'bread', 'lettuce']\n"
     ]
    }
   ],
   "source": [
    "'''43 Given a list of ingredients i and a flavour f as input, create a function that returns the list, but with the elements bread around the selected ingredient.\n",
    "\n",
    "Examples\n",
    "make_sandwich([\"tuna\", \"ham\", \"tomato\"], \"ham\") ➞ [\"tuna\", \"bread\", \"ham\", \"bread\", \"tomato\"]\n",
    "\n",
    "make_sandwich([\"cheese\", \"lettuce\"], \"cheese\") ➞ [\"bread\", \"cheese\", \"bread\", \"lettuce\"]'''\n",
    "\n",
    "def make_sandwich(i, f):\n",
    "    sandwich = []\n",
    "    found = False\n",
    "\n",
    "    for ingredient in i:\n",
    "        if ingredient == f:\n",
    "            sandwich.append(\"bread\")\n",
    "            sandwich.append(ingredient)\n",
    "            sandwich.append(\"bread\")\n",
    "            found = True\n",
    "        else:\n",
    "            sandwich.append(ingredient)\n",
    "\n",
    "    if not found:\n",
    "        sandwich.insert(0, \"bread\")\n",
    "        sandwich.append(\"bread\")\n",
    "\n",
    "    return sandwich\n",
    "\n",
    "print(make_sandwich([\"tuna\", \"ham\", \"tomato\"], \"ham\"))\n",
    "print(make_sandwich([\"cheese\", \"lettuce\"], \"cheese\"))\n"
   ]
  },
  {
   "cell_type": "code",
   "execution_count": 60,
   "id": "d7afb73b",
   "metadata": {},
   "outputs": [
    {
     "name": "stdout",
     "output_type": "stream",
     "text": [
      "144\n"
     ]
    }
   ],
   "source": [
    "'''44 Create a function that, given a number, returns the corresponding value of that index in the Fibonacci series.\n",
    "fibonacci(12) ➞ 233'''\n",
    "\n",
    "def fibonacci_iterative(n):\n",
    "    if n <= 0:\n",
    "        return 0\n",
    "    elif n == 1:\n",
    "        return 1\n",
    "\n",
    "    prev, curr = 0, 1\n",
    "    for _ in range(2, n + 1):\n",
    "        prev, curr = curr, prev + curr\n",
    "\n",
    "    return curr\n",
    "\n",
    "# Test case\n",
    "print(fibonacci_iterative(12))  # Output: 233\n"
   ]
  },
  {
   "cell_type": "code",
   "execution_count": 61,
   "id": "6b958d2d",
   "metadata": {},
   "outputs": [
    {
     "name": "stdout",
     "output_type": "stream",
     "text": [
      "15\n",
      "29\n"
     ]
    }
   ],
   "source": [
    "'''45 Create a function that sums the total number of digits between two numbers, inclusive. For example, between the numbers 19 and 22 we have:\n",
    "\n",
    "# 19, 20, 21, 22\n",
    "(1 + 9) + (2 + 0) + (2 + 1) + (2 + 2) = 19\n",
    "Examples\n",
    "sum_digits(7, 8) ➞ 15\n",
    "\n",
    "sum_digits(17, 20) ➞ 29'''\n",
    "\n",
    "def sum_digits(start, end):\n",
    "    total_sum = 0\n",
    "\n",
    "    for num in range(start, end + 1):\n",
    "        num_str = str(num)\n",
    "        for digit in num_str:\n",
    "            total_sum += int(digit)\n",
    "\n",
    "    return total_sum\n",
    "\n",
    "print(sum_digits(7, 8))    \n",
    "print(sum_digits(17, 20))  "
   ]
  },
  {
   "cell_type": "code",
   "execution_count": 62,
   "id": "2946a51d",
   "metadata": {},
   "outputs": [
    {
     "name": "stdout",
     "output_type": "stream",
     "text": [
      "2018\n"
     ]
    }
   ],
   "source": [
    "'''46 Mubashir needs your help to find out the next happy year.\n",
    "\n",
    "A Happy Year is the year with only distinct digits. Create a function that takes an integer year and returns the next happy year.\n",
    "\n",
    "Examples\n",
    "happy_year(2017) ➞ 2018'''\n",
    "\n",
    "def is_happy_year(year):\n",
    "    digits = set(str(year))\n",
    "    return len(digits) == 4\n",
    "\n",
    "def happy_year(year):\n",
    "    next_year = year + 1\n",
    "    while not is_happy_year(next_year):\n",
    "        next_year += 1\n",
    "    return next_year\n",
    "\n",
    "# Test case\n",
    "print(happy_year(2017)) "
   ]
  },
  {
   "cell_type": "code",
   "execution_count": 63,
   "id": "b3377bad",
   "metadata": {},
   "outputs": [
    {
     "name": "stdout",
     "output_type": "stream",
     "text": [
      "[5, 9]\n"
     ]
    }
   ],
   "source": [
    "'''47 Write a function that returns all the elements in an array that are strictly greater than their adjacent left and right neighbors.\n",
    "\n",
    "Examples\n",
    "mini_peaks([4, 5, 2, 1, 4, 9, 7, 2]) ➞ [5, 9]\n",
    "'''\n",
    "\n",
    "def mini_peaks(arr):\n",
    "    peaks = []\n",
    "    n = len(arr)\n",
    "\n",
    "    for i in range(1, n - 1):\n",
    "        if arr[i] > arr[i - 1] and arr[i] > arr[i + 1]:\n",
    "            peaks.append(arr[i])\n",
    "\n",
    "    return peaks\n",
    "\n",
    "# Test case\n",
    "print(mini_peaks([4, 5, 2, 1, 4, 9, 7, 2])) "
   ]
  },
  {
   "cell_type": "code",
   "execution_count": 64,
   "id": "c7da2cf6",
   "metadata": {},
   "outputs": [
    {
     "name": "stdout",
     "output_type": "stream",
     "text": [
      "AAAABBBBBCC\n"
     ]
    }
   ],
   "source": [
    "'''48 Your task is to create a function that, when fed the inputs below, produce the sample outputs shown.\n",
    "\n",
    "Examples\n",
    "\"A4B5C2\" ➞ \"AAAABBBBBCC\"\n",
    "\n",
    "'''\n",
    "\n",
    "def expand_string(s):\n",
    "    expanded_string = \"\"\n",
    "    i = 0\n",
    "\n",
    "    while i < len(s):\n",
    "        char = s[i]\n",
    "        count = int(s[i + 1])\n",
    "        expanded_string += char * count\n",
    "        i += 2\n",
    "\n",
    "    return expanded_string\n",
    "\n",
    "print(expand_string(\"A4B5C2\"))  "
   ]
  },
  {
   "cell_type": "code",
   "execution_count": 65,
   "id": "aff27c5d",
   "metadata": {},
   "outputs": [
    {
     "name": "stdout",
     "output_type": "stream",
     "text": [
      "TeSh iS my worlD\n",
      "CoNSaGuiNiTY\n"
     ]
    }
   ],
   "source": [
    "'''49 Write a function that takes a string input and returns the string in a reversed case and order.\n",
    "\n",
    "Examples\n",
    "invert(\"dLROW YM sI HsEt\") ➞ \"TeSh iS my worlD\"\n",
    "\n",
    "invert(\"ytInIUgAsnOc\") ➞ \"CoNSaGuiNiTY\"\n",
    "'''\n",
    "\n",
    "def invert(s):\n",
    "    return s.swapcase()[::-1]\n",
    "\n",
    "print(invert(\"dLROW YM sI HsEt\")) \n",
    "print(invert(\"ytInIUgAsnOc\"))  "
   ]
  },
  {
   "cell_type": "code",
   "execution_count": 66,
   "id": "412b428c",
   "metadata": {},
   "outputs": [
    {
     "name": "stdout",
     "output_type": "stream",
     "text": [
      "{'cat': 2, 'dog': 1, 'cow': 3}\n",
      "{1: 1, 5: 3, 12: 2, 0: 6}\n"
     ]
    }
   ],
   "source": [
    "'''50 Given a list, create a function that returns a dictionary detailing how many times each element was repeated.\n",
    "\n",
    "Examples\n",
    "count_repetitions([\"cat\", \"dog\", \"cat\", \"cow\", \"cow\", \"cow\"]) ➞ { cow: 3, cat: 2, dog: 1 }\n",
    "\n",
    "count_repetitions([1, 5, 5, 5, 12, 12, 0, 0, 0, 0, 0, 0]) ➞ { 0: 6, 5: 3, 12: 2, 1: 1 }\n",
    "'''\n",
    "\n",
    "from collections import Counter\n",
    "\n",
    "def count_repetitions(lst):\n",
    "    count_dict = Counter(lst)\n",
    "    return dict(count_dict)\n",
    "\n",
    "print(count_repetitions([\"cat\", \"dog\", \"cat\", \"cow\", \"cow\", \"cow\"]))  # Output: {'cat': 2, 'dog': 1, 'cow': 3}\n",
    "print(count_repetitions([1, 5, 5, 5, 12, 12, 0, 0, 0, 0, 0, 0]))     "
   ]
  },
  {
   "cell_type": "code",
   "execution_count": null,
   "id": "3204f5ce",
   "metadata": {},
   "outputs": [],
   "source": []
  }
 ],
 "metadata": {
  "kernelspec": {
   "display_name": "Python 3 (ipykernel)",
   "language": "python",
   "name": "python3"
  },
  "language_info": {
   "codemirror_mode": {
    "name": "ipython",
    "version": 3
   },
   "file_extension": ".py",
   "mimetype": "text/x-python",
   "name": "python",
   "nbconvert_exporter": "python",
   "pygments_lexer": "ipython3",
   "version": "3.10.9"
  }
 },
 "nbformat": 4,
 "nbformat_minor": 5
}
